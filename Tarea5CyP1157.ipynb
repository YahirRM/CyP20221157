{
  "nbformat": 4,
  "nbformat_minor": 0,
  "metadata": {
    "colab": {
      "name": "Tarea5CyP1157.ipynb",
      "provenance": [],
      "collapsed_sections": [],
      "authorship_tag": "ABX9TyOShLgnBjNz4npRq4P+C7uP",
      "include_colab_link": true
    },
    "kernelspec": {
      "name": "python3",
      "display_name": "Python 3"
    },
    "language_info": {
      "name": "python"
    }
  },
  "cells": [
    {
      "cell_type": "markdown",
      "metadata": {
        "id": "view-in-github",
        "colab_type": "text"
      },
      "source": [
        "<a href=\"https://colab.research.google.com/github/YahirRM/CyP20221157/blob/main/Tarea5CyP1157.ipynb\" target=\"_parent\"><img src=\"https://colab.research.google.com/assets/colab-badge.svg\" alt=\"Open In Colab\"/></a>"
      ]
    },
    {
      "cell_type": "markdown",
      "metadata": {
        "id": "g4oMiTSb9CLk"
      },
      "source": [
        "# 18/11/21\n",
        "##1. Hacer un programa que pida dos números enteros y que imprima los siguiente:\n",
        "    -¿Cuál de ellos es el mayor?\n",
        "    -¿Cuál de ellos es el menor?\n",
        "    -En caso contrario, imprimir si los valores son iguales"
      ]
    },
    {
      "cell_type": "code",
      "metadata": {
        "colab": {
          "base_uri": "https://localhost:8080/"
        },
        "id": "dKwHWk-c9KkY",
        "outputId": "81ea243f-3d46-4337-cf95-42e82a631cbe"
      },
      "source": [
        "# Ejercicio 1 \n",
        "\n",
        "n1 = int(input(\"Ingresa un primer número entero: \"))\n",
        "n2 = int(input(\"Ingresa un segundo número entero: \"))\n",
        "\n",
        "if n1 == n2:\n",
        "    print(\"Ambos números son iguales\")\n",
        "\n",
        "elif n1 >= n2 :\n",
        "    print(f\"El número mayor es : {n1}\")\n",
        "    print(f\"El número menor es : {n2}\")\n",
        "else:\n",
        "    print(f\"El número mayor es : {n2}\")\n",
        "    print(f\"El número menor es : {n1}\")\n",
        "    \n",
        "    \n",
        "\n",
        "\n",
        "\n",
        "\n",
        "\n",
        "\n",
        "\n",
        "    \n",
        "\n"
      ],
      "execution_count": 88,
      "outputs": [
        {
          "output_type": "stream",
          "name": "stdout",
          "text": [
            "Ingresa un primer número entero: 4\n",
            "Ingresa un segundo número entero: 10\n",
            "El número mayor es : 10\n",
            "El número menor es : 4\n"
          ]
        }
      ]
    },
    {
      "cell_type": "markdown",
      "metadata": {
        "id": "MUTmIWl-HLTe"
      },
      "source": [
        "## 2. Hacer un programa que solicite 3 números enteros diferentes entre sí e imprimir cuál de los tres es el mayor."
      ]
    },
    {
      "cell_type": "code",
      "metadata": {
        "colab": {
          "base_uri": "https://localhost:8080/"
        },
        "id": "H3s0v8enHvmi",
        "outputId": "055d2358-7166-4ae8-a0c6-d08f144804bc"
      },
      "source": [
        "# Ejercicio 2\n",
        "print(\"--------Ingrese 3 números enteros diferentes entre si--------\")\n",
        "n1 = int(input(\"Ingresa un primer número entero: \"))\n",
        "n2 = int(input(\"Ingresa un segundo número  entero: \"))\n",
        "n3 = int(input(\"Ingresa un tercer número entero: \"))\n",
        "\n",
        "if n1 >= n2 and n1 >= n3:\n",
        "    print(f\"El número mayor es: {n1}\")\n",
        "elif n2 >= n1 and n2 >= n3:\n",
        "    print(f\"El número mayor es: {n2}\")\n",
        "else:\n",
        "    print(f\"El número mayor es: {n3}\")\n"
      ],
      "execution_count": 54,
      "outputs": [
        {
          "output_type": "stream",
          "name": "stdout",
          "text": [
            "--------Ingrese 3 números enteros diferentes entre si--------\n",
            "Ingresa un primer número entero: 120\n",
            "Ingresa un segundo número  entero: 154\n",
            "Ingresa un tercer número entero: 300\n",
            "El número mayor es: 300\n"
          ]
        }
      ]
    },
    {
      "cell_type": "markdown",
      "metadata": {
        "id": "VGGmoIjgJ8iv"
      },
      "source": [
        "## 3. Hacer un programa que solicite 3 números enteros diferentes entre sí e imprimir cuál de ellos es el menor. "
      ]
    },
    {
      "cell_type": "code",
      "metadata": {
        "colab": {
          "base_uri": "https://localhost:8080/"
        },
        "id": "J2TAfxCCKN4V",
        "outputId": "89792ffc-ec17-4d6f-d044-763a9e82b451"
      },
      "source": [
        "#Ejercicio 3\n",
        "print(\"--------Ingrese 3 números enteros diferentes entre si--------\")\n",
        "n1 = int(input(\"Ingresa un primer número entero: \"))\n",
        "n2 = int(input(\"Ingresa un segundo número  entero: \"))\n",
        "n3 = int(input(\"Ingresa un tercer número entero: \"))\n",
        "\n",
        "if n1 <= n2 and n1 <= n3:\n",
        "    print(f\"El número menor es: {n1}\")\n",
        "elif n2 <= n1 and n2 <= n3:\n",
        "    print(f\"El número menor es: {n2}\")\n",
        "else:\n",
        "    print(f\"El número menor es: {n3}\")"
      ],
      "execution_count": 57,
      "outputs": [
        {
          "output_type": "stream",
          "name": "stdout",
          "text": [
            "--------Ingrese 3 números enteros diferentes entre si--------\n",
            "Ingresa un primer número entero: 33\n",
            "Ingresa un segundo número  entero: 12\n",
            "Ingresa un tercer número entero: 9\n",
            "El número menor es: 9\n"
          ]
        }
      ]
    },
    {
      "cell_type": "markdown",
      "metadata": {
        "id": "T6RuYxiuKrpp"
      },
      "source": [
        "## 4. Hacer un programa que solicite 4 números enteros diferentes entre sí eque imprimir a la salida cuál de ellos es el menor y cuál de ellos es el mayor.\n"
      ]
    },
    {
      "cell_type": "code",
      "metadata": {
        "colab": {
          "base_uri": "https://localhost:8080/"
        },
        "id": "71uYLDecUfbX",
        "outputId": "24f6a927-ac97-4ef0-9a0e-62f902d390b0"
      },
      "source": [
        "# Ejercicio 4\n",
        "print(\"--------Ingrese 4 números enteros diferentes entre si--------\")\n",
        "n1 = int(input(\"Ingresa un primer número entero: \"))\n",
        "n2 = int(input(\"Ingresa un segundo número entero: \"))\n",
        "n3 = int(input(\"Ingresa un tercer número entero: \"))\n",
        "n4 = int(input(\"Ingresa un cuarto número entero: \"))\n",
        "\n",
        "if n1 >= n2 and n1 >= n3 and n1 >= n4:\n",
        "    mayor = n1\n",
        "elif n2 >= n1 and n2 >= n3 and n2 >= n4:\n",
        "    mayor = n2\n",
        "elif n3 >= n1 and n3 >= n2 and n3 >= n4:\n",
        "    mayor = n3\n",
        "else:\n",
        "    mayor = n4\n",
        "\n",
        "\n",
        "if n1 <= n2 and n1 <= n3 and n1 <= n4:\n",
        "    menor = n1\n",
        "elif n2 <= n1 and n2 <= n3 and n2 <= n4:\n",
        "    menor = n2\n",
        "elif n3 <= n1 and n3 <= n2 and n3 <= n4:\n",
        "    menor = n3\n",
        "else:\n",
        "    menor = n4\n",
        "\n",
        "print(f\"El número mayor es : {mayor}\")\n",
        "print(f\"El número menor es : {menor}\")"
      ],
      "execution_count": 69,
      "outputs": [
        {
          "output_type": "stream",
          "name": "stdout",
          "text": [
            "--------Ingrese 4 números enteros diferentes entre si--------\n",
            "Ingresa un primer número entero: 100\n",
            "Ingresa un segundo número entero: 5\n",
            "Ingresa un tercer número entero: 600\n",
            "Ingresa un cuarto número entero: 100\n",
            "El número mayor es : 600\n",
            "El número menor es : 5\n"
          ]
        }
      ]
    }
  ]
}