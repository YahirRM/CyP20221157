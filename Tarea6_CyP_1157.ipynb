{
  "nbformat": 4,
  "nbformat_minor": 0,
  "metadata": {
    "colab": {
      "name": "Tarea6_CyP_1157.ipynb",
      "provenance": [],
      "collapsed_sections": [],
      "authorship_tag": "ABX9TyMNvg/WU1+AfqkfT3yg+jrx",
      "include_colab_link": true
    },
    "kernelspec": {
      "name": "python3",
      "display_name": "Python 3"
    },
    "language_info": {
      "name": "python"
    }
  },
  "cells": [
    {
      "cell_type": "markdown",
      "metadata": {
        "id": "view-in-github",
        "colab_type": "text"
      },
      "source": [
        "<a href=\"https://colab.research.google.com/github/YahirRM/CyP20221157/blob/main/Tarea6_CyP_1157.ipynb\" target=\"_parent\"><img src=\"https://colab.research.google.com/assets/colab-badge.svg\" alt=\"Open In Colab\"/></a>"
      ]
    },
    {
      "cell_type": "markdown",
      "metadata": {
        "id": "htAKPfs4Pm9N"
      },
      "source": [
        "# 23/11/21\n",
        "\n",
        "## Mercado Romero Yahir Ricardo 1157 CyP"
      ]
    },
    {
      "cell_type": "code",
      "metadata": {
        "colab": {
          "base_uri": "https://localhost:8080/"
        },
        "id": "VxhzknkTP120",
        "outputId": "1539343f-caee-4d36-cc79-586f9e41c990"
      },
      "source": [
        "# PROBLEMA 2.1\n",
        "\n",
        "N = int(input(\"Ingresa el numero de sonidos emitido por un grillo \"))\n",
        "T = 0.0 \n",
        "\n",
        "if N>0:\n",
        "    T = N/4+40\n",
        "    print(f\"\\nLa temperatura es {T} grados Fahrenheit\")\n",
        "\n"
      ],
      "execution_count": 11,
      "outputs": [
        {
          "output_type": "stream",
          "name": "stdout",
          "text": [
            "Ingresa el numero de sonidos emitido por un grillo 50\n",
            "\n",
            "La temperatura es 52.5 grados Fahrenheit\n"
          ]
        }
      ]
    },
    {
      "cell_type": "code",
      "metadata": {
        "colab": {
          "base_uri": "https://localhost:8080/"
        },
        "id": "jMSGXCleR8DM",
        "outputId": "5bbf4b64-3903-4dd7-8b21-399f9d94c09b"
      },
      "source": [
        "# PROBLEMA 2.2\n",
        "\n",
        "P = int(input(\"Ingres un valor entero: \"))\n",
        "Q = int(input(\"Ingres un valor entero: \"))\n",
        "EXP = 0.0\n",
        "\n",
        "EXP = P**3+Q**4-2*P**2\n",
        "\n",
        "print(f\"El valor de la espresión es: {EXP}\")\n",
        "if EXP < 680: \n",
        "    print(f\"\\nEl valor de P es :{P}, el valor de Q es:{Q}\")\n",
        "\n",
        "\n"
      ],
      "execution_count": 12,
      "outputs": [
        {
          "output_type": "stream",
          "name": "stdout",
          "text": [
            "Ingres un valor entero: 2\n",
            "Ingres un valor entero: 4\n",
            "El valor de la espresión es: 256\n",
            "\n",
            "El valor de P es :2, el valor de Q es:4\n"
          ]
        }
      ]
    },
    {
      "cell_type": "code",
      "metadata": {
        "colab": {
          "base_uri": "https://localhost:8080/"
        },
        "id": "KTSaxjc7T-_d",
        "outputId": "081ada85-45e4-4da8-ae00-321d1a645199"
      },
      "source": [
        "# PROBLEMA 2.3\n",
        "\n",
        "\n",
        "A = float(input(\"Ingrese un primer valor: \"))  \n",
        "B = float(input(\"Ingrese un primer valor: \"))\n",
        "C = float(input(\"Ingrese un primer valor: \"))\n",
        "DIS = 0.0\n",
        "X1 = 0.0\n",
        "X2 = 0.0\n",
        "\n",
        "DIS = B**2-4*A*C\n",
        "print (DIS)\n",
        "print(\"-----------\")\n",
        "if DIS>0:\n",
        "    X1 = (-B+DIS**0.5)/(2*A)\n",
        "    X2 = (-B-DIS**0.5)/(2*A)\n",
        "    print(f\"Raices reales: {X1}, {X2}\")\n",
        "\n",
        "\n"
      ],
      "execution_count": 10,
      "outputs": [
        {
          "output_type": "stream",
          "name": "stdout",
          "text": [
            "Ingrese un primer valor: -7.5\n",
            "Ingrese un primer valor: 3\n",
            "Ingrese un primer valor: 1\n",
            "39.0\n",
            "-----------\n",
            "Raices reales: -0.21633319989322655, 0.6163331998932265\n"
          ]
        }
      ]
    },
    {
      "cell_type": "code",
      "metadata": {
        "colab": {
          "base_uri": "https://localhost:8080/"
        },
        "id": "zutjjK3fZZQm",
        "outputId": "741a0be2-4456-469c-ced1-a609a0972274"
      },
      "source": [
        "#PROBLEMA 2.4\n",
        "\n",
        "MAT = int(input(\"Ingres su matricula de alumno: \"))\n",
        "CAL1 = float(input(\"Ingrese su primera calificación: \"))\n",
        "CAL2 = float(input(\"Ingrese su segunda calificación: \"))\n",
        "CAL3 = float(input(\"Ingrese su tercera calificación: \"))\n",
        "CAL4 = float(input(\"Ingrese su cuarta calificación: \"))\n",
        "CAL5 = float(input(\"Ingrese su quinta calificación: \"))\n",
        "PRO = 0.0\n",
        "\n",
        "PRO = (CAL1 + CAL2 + CAL3 + CAL4 + CAL5) / 5\n",
        "\n",
        "if PRO > 6:\n",
        "    print(f\"\\nTu matrícula es: {MAT}\")\n",
        "    print(f\"Tu promedio es: {PRO}\")\n",
        "    print(\"Aprobado\")\n",
        "else:\n",
        "    print(f\"\\nTu matrícula es: {MAT}\")\n",
        "    print(f\"Tu promedio es: {PRO}\")\n",
        "    print(\"No aprobado\")\n",
        "\n",
        "\n",
        "\n"
      ],
      "execution_count": null,
      "outputs": [
        {
          "output_type": "stream",
          "name": "stdout",
          "text": [
            "Ingres su matricula de alumno: 18240\n",
            "Ingrese su primera calificación: 7\n",
            "Ingrese su segunda calificación: 4.60\n",
            "Ingrese su tercera calificación: 4.90\n",
            "Ingrese su cuarta calificación: 7\n",
            "Ingrese su quinta calificación: 5.60\n",
            "\n",
            "Tu matrícula es: 18240\n",
            "Tu promedio es: 5.82\n",
            "No aprobado\n"
          ]
        }
      ]
    },
    {
      "cell_type": "code",
      "metadata": {
        "colab": {
          "base_uri": "https://localhost:8080/"
        },
        "id": "DZZHLOkGcnPX",
        "outputId": "09ba1534-8759-464f-be14-7e78971cc635"
      },
      "source": [
        "# PROBLEMA 2.5\n",
        "\n",
        "NUM = int(input(\"Ingresa un valor entero: \"))\n",
        "\n",
        "if NUM > 0:\n",
        "    print(\"\\nPOSITIVO\")\n",
        "elif NUM == 0: \n",
        "    print(\"\\nNULO\")\n",
        "else: \n",
        "    print(\"\\nNEGATIVO\")"
      ],
      "execution_count": 13,
      "outputs": [
        {
          "output_type": "stream",
          "name": "stdout",
          "text": [
            "Ingresa un valor entero: -89\n",
            "\n",
            "NEGATIVO\n"
          ]
        }
      ]
    },
    {
      "cell_type": "code",
      "metadata": {
        "colab": {
          "base_uri": "https://localhost:8080/"
        },
        "id": "dYohravpf4dk",
        "outputId": "f96cff7b-5dc9-4159-e350-db1d81891b25"
      },
      "source": [
        "# PROBLEMA 2.6\n",
        "\n",
        "A = int(input(\"Ingresa un valor entero: \"))\n",
        "\n",
        "if A == 0:\n",
        "    print(\"\\nNULO\")\n",
        "elif (-1)**A>0 == 0:\n",
        "    print(\"\\nPAR\")\n",
        "else:\n",
        "    print(\"\\nIMPAR\")"
      ],
      "execution_count": 14,
      "outputs": [
        {
          "output_type": "stream",
          "name": "stdout",
          "text": [
            "Ingresa un valor entero: -3\n",
            "\n",
            "IMPAR\n"
          ]
        }
      ]
    },
    {
      "cell_type": "code",
      "metadata": {
        "colab": {
          "base_uri": "https://localhost:8080/"
        },
        "id": "XeGxN0_gylEi",
        "outputId": "99c4bce8-d560-40b4-cee9-814c1718559c"
      },
      "source": [
        "# PROBLEMA 2.7\n",
        "A = int(input(\"Ingresa un valor entero: \"))\n",
        "B = int(input(\"Ingresa un valor entero: \"))\n",
        "C = int(input(\"Ingresa un valor entero: \"))\n",
        "\n",
        "if A<B:\n",
        "    if B<C:\n",
        "        print(\"\\nLos números están en orden creciente\")\n",
        "    else: \n",
        "        print(\"\\nLos números no estan en orden creciente\")\n",
        "else:\n",
        "    print(\"\\nLos números no están en orden creciente\")\n",
        "\n",
        "\n",
        "\n"
      ],
      "execution_count": 15,
      "outputs": [
        {
          "output_type": "stream",
          "name": "stdout",
          "text": [
            "Ingresa un valor entero: 90\n",
            "Ingresa un valor entero: 190\n",
            "Ingresa un valor entero: 1000\n",
            "\n",
            "Los números están en orden creciente\n"
          ]
        }
      ]
    },
    {
      "cell_type": "code",
      "metadata": {
        "id": "onLxWTzP2zq2",
        "colab": {
          "base_uri": "https://localhost:8080/"
        },
        "outputId": "93516f77-0494-4fbe-e777-d9f0ae435469"
      },
      "source": [
        "# PROBLEMA 2.8 \n",
        "\n",
        "COMPRA = float(input(\"Ingrese el monto de su compra: \"))\n",
        "PAGAR = 0.0\n",
        "\n",
        "\n",
        "if COMPRA < 500:\n",
        "    print(f\"\\nNo hay descuento, la cantidad a pagar es {COMPRA} pesos\")\n",
        "elif COMPRA <= 1000:\n",
        "    PAGAR = COMPRA - COMPRA * 0.05 \n",
        "    print(f\"\\nEl total a pagar con descuento incluido es: {PAGAR} pesos\")\n",
        "elif  COMPRA <= 7000:\n",
        "     PAGAR = COMPRA - COMPRA * 0.11\n",
        "     print(f\"\\nEl total a pagar con descuento incluido es: {PAGAR} pesos\")\n",
        "elif COMPRA <=15000:\n",
        "     PAGAR = COMPRA - COMPRA * 0.18\n",
        "     print(f\"\\nEl total a pagar con descuento incluido es: {PAGAR} pesos\")\n",
        "else :\n",
        "     PAGAR = COMPRA - COMPRA * 0.25\n",
        "     print(f\"\\nEl total a pagar con descuento incluido es: {PAGAR} pesos\")\n",
        "\n"
      ],
      "execution_count": 16,
      "outputs": [
        {
          "output_type": "stream",
          "name": "stdout",
          "text": [
            "Ingrese el monto de su compra: 14200.50\n",
            "\n",
            "El total a pagar con descuento incluido es: 11644.41 pesos\n"
          ]
        }
      ]
    },
    {
      "cell_type": "code",
      "metadata": {
        "colab": {
          "base_uri": "https://localhost:8080/"
        },
        "id": "cC3tapr7SNM9",
        "outputId": "5f47793f-6131-4f00-f458-9389aba2a448"
      },
      "source": [
        "# PROBLEMA 2.9\n",
        "\n",
        "PREBAS = float(input(\"Ingrese el monto de su compra: \"))\n",
        "PRETOT = 0.0\n",
        "IMP = 0.0\n",
        "\n",
        "if PREBAS >= 500:\n",
        "    IMP = 20*0.30+(PREBAS-40)*0.50\n",
        "elif PREBAS >= 40:\n",
        "    IMP = 20*0.30+(PREBAS-40)*0.40\n",
        "elif PREBAS >= 20:\n",
        "    IMP = 20*0.30+(PREBAS-40)*0.30\n",
        "else :\n",
        "    IMP = 0\n",
        "\n",
        "PRETOT = PREBAS + IMP \n",
        "print(f\"\\nTú precio basico fue de {PREBAS} pesos y con su impuesto el precio total es de {PRETOT} pesos\")\n"
      ],
      "execution_count": 17,
      "outputs": [
        {
          "output_type": "stream",
          "name": "stdout",
          "text": [
            "Ingrese el monto de su compra: 527.50\n",
            "\n",
            "Tú precio basico fue de 527.5 pesos y con su impuesto el precio total es de 777.25 pesos\n"
          ]
        }
      ]
    },
    {
      "cell_type": "code",
      "metadata": {
        "colab": {
          "base_uri": "https://localhost:8080/"
        },
        "id": "pumU1sS-WP4P",
        "outputId": "61e2aa68-1544-4a41-887b-b2bdf6edb8cd"
      },
      "source": [
        "# PROBLEMA 2.10\n",
        "\n",
        "A = float(input(\"Ingrese un primer (A) valor: \"))\n",
        "B = float(input(\"Ingrese un segundo (B) valor: \"))\n",
        "C = float(input(\"Ingrese un tercer (C) valor: \"))\n",
        "\n",
        "if A > B and A > C:\n",
        "    print(\"\\nA es el mayor\")\n",
        "elif B > A and B > C:\n",
        "    print(\"\\nB es el mayor\")\n",
        "elif C > A and C > B:\n",
        "    print(\"\\nC es el mayor\")\n",
        "elif A == C and A != B :\n",
        "    print(\"\\nA y C son los mayores\")\n",
        "elif A == B and A != C :\n",
        "    print(\"\\nA y B son los mayores\")\n",
        "elif B == C and B != A :\n",
        "    print(\"\\nB y C son los mayores\")\n",
        "elif A == C and A == B and B == A and B == C and C == A and C== B:\n",
        "    print(\"\\nA, B y C son iguales\")\n",
        "\n",
        "\n",
        "\n",
        "\n",
        "\n"
      ],
      "execution_count": 18,
      "outputs": [
        {
          "output_type": "stream",
          "name": "stdout",
          "text": [
            "Ingrese un primer (A) valor: 17\n",
            "Ingrese un segundo (B) valor: 5\n",
            "Ingrese un tercer (C) valor: 17\n",
            "\n",
            "A y C son los mayores\n"
          ]
        }
      ]
    },
    {
      "cell_type": "code",
      "metadata": {
        "colab": {
          "base_uri": "https://localhost:8080/"
        },
        "id": "BBXeJ0eSUYC9",
        "outputId": "da4f9a6a-643b-4f76-f410-f8be6889affa"
      },
      "source": [
        "# PROBLEMA 2.11\n",
        "\n",
        "CLAVE = int(input(\"Ingrese la clave de su zona (12,15,18,19,23,25,29): \"))\n",
        "NUMIN = int(input(\"Ingrese la duracion de la llamada ( en minutos): \"))\n",
        "COST = 0.0\n",
        "\n",
        "if CLAVE == 12:\n",
        "    COST = NUMIN * 2\n",
        "elif CLAVE == 15:\n",
        "    COST = NUMIN * 2.2\n",
        "elif CLAVE == 18:\n",
        "    COST = NUMIN * 4.5\n",
        "elif CLAVE == 19:\n",
        "    COST = NUMIN * 3.5\n",
        "elif CLAVE == 23 :\n",
        "    COST = NUMIN * 6\n",
        "elif CLAVE == 25 :\n",
        "    COST = NUMIN * 6\n",
        "elif CLAVE == 29:\n",
        "    COST = NUMIN * 5\n",
        "print(\"\\nCosto total de la llamada: \", COST)\n"
      ],
      "execution_count": 19,
      "outputs": [
        {
          "output_type": "stream",
          "name": "stdout",
          "text": [
            "Ingrese la clave de su zona (12,15,18,19,23,25,29): 29\n",
            "Ingrese la duracion de la llamada ( en minutos): 8\n",
            "\n",
            "Costo total de la llamada:  40\n"
          ]
        }
      ]
    },
    {
      "cell_type": "code",
      "metadata": {
        "colab": {
          "base_uri": "https://localhost:8080/"
        },
        "id": "6EKmEAVxd6uv",
        "outputId": "d227827e-6526-49d1-a86c-bfd74f15b2f7"
      },
      "source": [
        "# PROBLEMA 2.12\n",
        "\n",
        "SUE = float(input(\"Ingresa tu sueldo: \"))\n",
        "CATE = int(input(\"Ingresa tu categoría (1 al 8): \"))\n",
        "HE = int(input(\"Ingresa la cantidad de horas extras: \"))\n",
        "PHE = 0.0\n",
        "NSUE = 0.0\n",
        "\n",
        "\n",
        "if CATE == 1:\n",
        "    PHE = 30\n",
        "elif CATE == 2:\n",
        "    PHE = 38\n",
        "elif CATE == 3:\n",
        "    PHE = 50\n",
        "elif CATE == 4:\n",
        "    PHE = 70\n",
        "else: \n",
        "    PHE = 0\n",
        "\n",
        "if HE > 30:\n",
        "    NSUE = SUE + 30*PHE\n",
        "else:\n",
        "    NSUE = SUE + HE*PHE\n",
        "\n",
        "\n",
        "print(f\"\\nTu sueldo ahora es: {NSUE}\")\n",
        "\n"
      ],
      "execution_count": 21,
      "outputs": [
        {
          "output_type": "stream",
          "name": "stdout",
          "text": [
            "Ingresa tu sueldo: 980\n",
            "Ingresa tu categoría (1 al 8): 1\n",
            "Ingresa la cantidad de horas extras: 15\n",
            "\n",
            "Tu sueldo ahora es: 1430.0\n"
          ]
        }
      ]
    },
    {
      "cell_type": "code",
      "metadata": {
        "colab": {
          "base_uri": "https://localhost:8080/"
        },
        "id": "sTCqMNAgsxY4",
        "outputId": "dbd6a8af-b428-44ea-836f-7c7e35cfa7b3"
      },
      "source": [
        "# PROBLEMA 2.13\n",
        "\n",
        "MAT = int(input(\"Ingresa tu matrícula de alumno: \"))\n",
        "CARR = str(input(\"Ingresa el nombre de tu carrera: \"))\n",
        "SEM = int(input(\"Ingresa tu número de semestre: \"))\n",
        "PROM = float(input(\"Ingresa tu promedio: \"))\n",
        "\n",
        "if CARR == \"Economía\" and SEM >= 6 and PROM >= 8.8:\n",
        "    print(f\"\\nLa matrícula ingresada fue {MAT}, la carrera ingresa fue {CARR} y tú resultado es ACEPTADO\")\n",
        "\n",
        "elif  CARR == \"Computación\" and SEM > 6 and PROM > 8.5:\n",
        "    print(f\"\\nLa matrícula ingresada fue {MAT}, la carrera ingresa fue {CARR} y tú resultado es ACEPTADO\")\n",
        "       \n",
        "elif CARR == \"Administración\" and SEM > 5 and PROM > 8.5:\n",
        "    print(f\"\\nLa matrícula ingresada fue {MAT}, la carrera ingresa fue {CARR} y tú resultado es ACEPTADO\")\n",
        "\n",
        "elif CARR == \"Contabilidad\" and  SEM > 5 and PROM > 8.5:\n",
        "    print(f\"\\nLa matrícula ingresada fue {MAT}, la carrera ingresa fue {CARR} y tú resultado es ACEPTADO\")\n",
        "\n",
        "else:\n",
        "    print(\"\\nRevisa la ortografía\")\n",
        "\n",
        "\n",
        "\n"
      ],
      "execution_count": 22,
      "outputs": [
        {
          "output_type": "stream",
          "name": "stdout",
          "text": [
            "Ingresa tu matrícula de alumno: 25224\n",
            "Ingresa el nombre de tu carrera: Computación\n",
            "Ingresa tu número de semestre: 8\n",
            "Ingresa tu promedio: 8.7\n",
            "\n",
            "La matrícula ingresada fue 25224, la carrera ingresa fue Computación y tú resultado es ACEPTADO\n"
          ]
        }
      ]
    }
  ]
}