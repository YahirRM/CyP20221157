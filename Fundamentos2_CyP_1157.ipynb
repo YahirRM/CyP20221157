{
  "nbformat": 4,
  "nbformat_minor": 0,
  "metadata": {
    "colab": {
      "name": "Fundamentos2_CyP_1157.ipynb",
      "provenance": [],
      "authorship_tag": "ABX9TyMQ1xMhJKpnZwAXeOaFxgFx",
      "include_colab_link": true
    },
    "kernelspec": {
      "name": "python3",
      "display_name": "Python 3"
    },
    "language_info": {
      "name": "python"
    }
  },
  "cells": [
    {
      "cell_type": "markdown",
      "metadata": {
        "id": "view-in-github",
        "colab_type": "text"
      },
      "source": [
        "<a href=\"https://colab.research.google.com/github/YahirRM/CyP20221157/blob/main/Fundamentos2_CyP_1157.ipynb\" target=\"_parent\"><img src=\"https://colab.research.google.com/assets/colab-badge.svg\" alt=\"Open In Colab\"/></a>"
      ]
    },
    {
      "cell_type": "markdown",
      "metadata": {
        "id": "4LLFWizyFail"
      },
      "source": [
        "### 4/11/21\n",
        "\n",
        "#### Tipos de datos estructurados en python \n",
        "\n",
        "1. Listas\n",
        "2. Tuplas\n",
        "3. Diccionarios \n",
        "4. Conjuntos (opcional)"
      ]
    },
    {
      "cell_type": "markdown",
      "metadata": {
        "id": "eyOaBpGOFtTg"
      },
      "source": [
        "### Listas \n",
        "\n",
        "- Es un tipo de dato que agrupa variables o valores \n",
        "- Estructura secuencial (indexados empezando por 0)\n",
        "- Se declara de dos formas\n",
        "           - Usando []\n",
        "           - Usando list()\n",
        "           - Usando un generador \n",
        "- Puede contener tipos de datos diversos \n",
        "- Los elementos internos se seleccionan con []\n",
        "- Sopar slicing  \n",
        "- SON MUTABLES\n",
        "- GENERADORES [var for x in range (10)]\n",
        "- Al ser una clase contiene muchos métodos utiles\n"
      ]
    },
    {
      "cell_type": "code",
      "metadata": {
        "colab": {
          "base_uri": "https://localhost:8080/"
        },
        "id": "fW0f-JvxGtcx",
        "outputId": "13b75051-454d-4265-c2d8-d44f5dfac33b"
      },
      "source": [
        "numeros = [10, 5, 3, 2, 1]\n",
        "print (numeros)\n",
        "# append agrega datos\n",
        "numeros2 = list()\n",
        "numeros2.append(10)\n",
        "numeros2.append(5)\n",
        "numeros2.append(3)\n",
        "numeros2.append(2)\n",
        "numeros2.append(1)\n",
        "print (numeros2)\n",
        "numeros[2] = 20\n",
        "print (numeros) \n",
        "numeros[-1] = 33\n",
        "print (numeros) \n",
        "numeros.append(88)\n",
        "print (numeros)"
      ],
      "execution_count": null,
      "outputs": [
        {
          "output_type": "stream",
          "name": "stdout",
          "text": [
            "[10, 5, 3, 2, 1]\n",
            "[10, 5, 3, 2, 1]\n",
            "[10, 5, 20, 2, 1]\n",
            "[10, 5, 20, 2, 33]\n",
            "[10, 5, 20, 2, 33, 88]\n"
          ]
        }
      ]
    },
    {
      "cell_type": "code",
      "metadata": {
        "colab": {
          "base_uri": "https://localhost:8080/"
        },
        "id": "EgOhppP3IdJ2",
        "outputId": "ebf078b3-4c54-45a1-9b40-b64d762f09fe"
      },
      "source": [
        "# tipos diversos \n",
        "\n",
        "cosas = [12, 2, True, \"Jose\", 1.57, [\"pera\", \"Kiwi\", \"Manzana\"]]\n",
        "print (cosas)\n",
        "print(cosas[1])\n",
        "print(cosas[4])\n",
        "print(cosas[5])\n",
        "print(cosas[5][1])\n",
        "print(cosas[3][1:3:1])\n",
        "\n",
        "cosas [3] =cosas [3].upper()\n",
        "print (cosas) "
      ],
      "execution_count": null,
      "outputs": [
        {
          "output_type": "stream",
          "name": "stdout",
          "text": [
            "[12, 2, True, 'Jose', 1.57, ['pera', 'Kiwi', 'Manzana']]\n",
            "2\n",
            "1.57\n",
            "['pera', 'Kiwi', 'Manzana']\n",
            "Kiwi\n",
            "os\n",
            "[12, 2, True, 'JOSE', 1.57, ['pera', 'Kiwi', 'Manzana']]\n"
          ]
        }
      ]
    },
    {
      "cell_type": "code",
      "metadata": {
        "colab": {
          "base_uri": "https://localhost:8080/"
        },
        "id": "vh4wmXNaL2V1",
        "outputId": "6e81529a-fe53-493a-e41f-10209090776b"
      },
      "source": [
        "numeros = [1,2,3,4,5,6,7,8,9,10,11]\n",
        "print (numeros)\n",
        "#Slicing \n",
        "# Del 4-8\n",
        "print (numeros[3:8])\n",
        "# Del 9-10\n",
        "print (numeros[8:10])\n",
        "# Imprimir la lista inversamente \n",
        "print (numeros[::-1])\n",
        "\n"
      ],
      "execution_count": null,
      "outputs": [
        {
          "output_type": "stream",
          "name": "stdout",
          "text": [
            "[1, 2, 3, 4, 5, 6, 7, 8, 9, 10, 11]\n",
            "[4, 5, 6, 7, 8]\n",
            "[9, 10]\n",
            "[11, 10, 9, 8, 7, 6, 5, 4, 3, 2, 1]\n"
          ]
        }
      ]
    },
    {
      "cell_type": "code",
      "metadata": {
        "colab": {
          "base_uri": "https://localhost:8080/"
        },
        "id": "cvO00XyJPn6T",
        "outputId": "3c81be86-b1ac-40e6-d90f-cb25f672bf74"
      },
      "source": [
        "# Crear una lista con un generador \n",
        "numeros = [x for x in range(101)]\n",
        "print(numeros)\n",
        "\n",
        "numeros = [x*3 for x in range(101)] #Para que se multiplique por 3 \n",
        "print(numeros)"
      ],
      "execution_count": null,
      "outputs": [
        {
          "output_type": "stream",
          "name": "stdout",
          "text": [
            "[0, 1, 2, 3, 4, 5, 6, 7, 8, 9, 10, 11, 12, 13, 14, 15, 16, 17, 18, 19, 20, 21, 22, 23, 24, 25, 26, 27, 28, 29, 30, 31, 32, 33, 34, 35, 36, 37, 38, 39, 40, 41, 42, 43, 44, 45, 46, 47, 48, 49, 50, 51, 52, 53, 54, 55, 56, 57, 58, 59, 60, 61, 62, 63, 64, 65, 66, 67, 68, 69, 70, 71, 72, 73, 74, 75, 76, 77, 78, 79, 80, 81, 82, 83, 84, 85, 86, 87, 88, 89, 90, 91, 92, 93, 94, 95, 96, 97, 98, 99, 100]\n",
            "[0, 3, 6, 9, 12, 15, 18, 21, 24, 27, 30, 33, 36, 39, 42, 45, 48, 51, 54, 57, 60, 63, 66, 69, 72, 75, 78, 81, 84, 87, 90, 93, 96, 99, 102, 105, 108, 111, 114, 117, 120, 123, 126, 129, 132, 135, 138, 141, 144, 147, 150, 153, 156, 159, 162, 165, 168, 171, 174, 177, 180, 183, 186, 189, 192, 195, 198, 201, 204, 207, 210, 213, 216, 219, 222, 225, 228, 231, 234, 237, 240, 243, 246, 249, 252, 255, 258, 261, 264, 267, 270, 273, 276, 279, 282, 285, 288, 291, 294, 297, 300]\n"
          ]
        }
      ]
    },
    {
      "cell_type": "markdown",
      "metadata": {
        "id": "-KK2x2KPQh9b"
      },
      "source": [
        "Funcion Range ()\n",
        "\n",
        "Tiene los mismos componentes que slicing \n",
        "range (1,101,1)"
      ]
    },
    {
      "cell_type": "code",
      "metadata": {
        "colab": {
          "base_uri": "https://localhost:8080/"
        },
        "id": "YmeT9D_4QstJ",
        "outputId": "386d667e-75e3-420b-ce6f-d0ffa065ff70"
      },
      "source": [
        "# Crear una lista con un generador \n",
        "numeros = [x for x in range(50,101)]\n",
        "print(numeros)\n",
        "\n"
      ],
      "execution_count": null,
      "outputs": [
        {
          "output_type": "stream",
          "name": "stdout",
          "text": [
            "[50, 51, 52, 53, 54, 55, 56, 57, 58, 59, 60, 61, 62, 63, 64, 65, 66, 67, 68, 69, 70, 71, 72, 73, 74, 75, 76, 77, 78, 79, 80, 81, 82, 83, 84, 85, 86, 87, 88, 89, 90, 91, 92, 93, 94, 95, 96, 97, 98, 99, 100]\n"
          ]
        }
      ]
    },
    {
      "cell_type": "markdown",
      "metadata": {
        "id": "s4qLYKtoRJ2F"
      },
      "source": [
        "# Metodos disponibles de una lista"
      ]
    },
    {
      "cell_type": "code",
      "metadata": {
        "colab": {
          "base_uri": "https://localhost:8080/"
        },
        "id": "obUdwweKRO7M",
        "outputId": "b5edf34c-b5f2-4ab7-da28-ce13eb5dcd6e"
      },
      "source": [
        "dir(list)"
      ],
      "execution_count": null,
      "outputs": [
        {
          "output_type": "execute_result",
          "data": {
            "text/plain": [
              "['__add__',\n",
              " '__class__',\n",
              " '__contains__',\n",
              " '__delattr__',\n",
              " '__delitem__',\n",
              " '__dir__',\n",
              " '__doc__',\n",
              " '__eq__',\n",
              " '__format__',\n",
              " '__ge__',\n",
              " '__getattribute__',\n",
              " '__getitem__',\n",
              " '__gt__',\n",
              " '__hash__',\n",
              " '__iadd__',\n",
              " '__imul__',\n",
              " '__init__',\n",
              " '__init_subclass__',\n",
              " '__iter__',\n",
              " '__le__',\n",
              " '__len__',\n",
              " '__lt__',\n",
              " '__mul__',\n",
              " '__ne__',\n",
              " '__new__',\n",
              " '__reduce__',\n",
              " '__reduce_ex__',\n",
              " '__repr__',\n",
              " '__reversed__',\n",
              " '__rmul__',\n",
              " '__setattr__',\n",
              " '__setitem__',\n",
              " '__sizeof__',\n",
              " '__str__',\n",
              " '__subclasshook__',\n",
              " 'append',\n",
              " 'clear',\n",
              " 'copy',\n",
              " 'count',\n",
              " 'extend',\n",
              " 'index',\n",
              " 'insert',\n",
              " 'pop',\n",
              " 'remove',\n",
              " 'reverse',\n",
              " 'sort']"
            ]
          },
          "metadata": {},
          "execution_count": 49
        }
      ]
    },
    {
      "cell_type": "code",
      "metadata": {
        "colab": {
          "base_uri": "https://localhost:8080/"
        },
        "id": "A-BnlNrYSgCX",
        "outputId": "9fc564fb-951f-49f0-c826-90e360a4b0d6"
      },
      "source": [
        "numero = [4,5,6,7,8,90,98]\n",
        "print (numero)\n",
        "numero.append(99) #append agrega elementos\n",
        "print (numero)\n",
        "numero.clear() #Vacia la lista\n",
        "print (numero)\n",
        "\n",
        "frutas = [\"Uvas\", \"Kiwi\", \"Manzana\"]\n",
        "copia = frutas\n",
        "\n",
        "print (frutas)\n",
        "print (copia)\n",
        "frutas.append(\"Naranja\")\n",
        "print (frutas)\n",
        "print (copia)\n",
        "print (\"------------------------------------------\")\n",
        "colores = [\"Rojo\",\"Azul\",\"Blanco\"]\n",
        "copia2 = colores.copy()\n",
        "print (colores)\n",
        "print (copia2)\n",
        "colores.append(\"Verde\")\n",
        "print (colores)\n",
        "print (copia2)\n",
        "print (\"------------------------------------------\")\n",
        "numero = [4,5,6,7,8,15,90,15]\n",
        "print (\"Numero de veces que aparece el 15: \",numero.count(15)) #count cuenta \n",
        "print (\"------------------------------------------\")\n",
        "#extend \n",
        "nombres = [\"Jose\",\"Pedro\",\"Karina\"]\n",
        "otrosnombres =[\"Josue\", \"Liliana\",\"Dalia\"]\n",
        "print (nombres)\n",
        "print (otrosnombres)\n",
        "nombres = nombres + otrosnombres\n",
        "print (nombres)\n",
        "#Uso de extend \n",
        "otrosnombres.extend([\"Jesus\", \"Maria\", \"Jose\"])\n",
        "print (otrosnombres)\n",
        "#Index\n",
        "print (\"------------------------------------------\")\n",
        "print(\"Jesus esta en la posicion: \", otrosnombres.index(\"Jesus\"))\n",
        "#Insert inserta valores en cualquier posición y los anteriores los mueve a la izquierda\n",
        "print (\"------------------------------------------\")\n",
        "otrosnombres.insert(4,\"Espiritu santo\")\n",
        "print (otrosnombres)\n",
        "print (\"------------------------------------------\")\n",
        "#pop saca el ultimo dato y lo regresa\n",
        "\n",
        "resultado = otrosnombres.pop()\n",
        "print (otrosnombres)\n",
        "print (resultado)\n",
        "\n"
      ],
      "execution_count": null,
      "outputs": [
        {
          "output_type": "stream",
          "name": "stdout",
          "text": [
            "[4, 5, 6, 7, 8, 90, 98]\n",
            "[4, 5, 6, 7, 8, 90, 98, 99]\n",
            "[]\n",
            "['Uvas', 'Kiwi', 'Manzana']\n",
            "['Uvas', 'Kiwi', 'Manzana']\n",
            "['Uvas', 'Kiwi', 'Manzana', 'Naranja']\n",
            "['Uvas', 'Kiwi', 'Manzana', 'Naranja']\n",
            "------------------------------------------\n",
            "['Rojo', 'Azul', 'Blanco']\n",
            "['Rojo', 'Azul', 'Blanco']\n",
            "['Rojo', 'Azul', 'Blanco', 'Verde']\n",
            "['Rojo', 'Azul', 'Blanco']\n",
            "------------------------------------------\n",
            "Numero de veces que aparece el 15:  2\n",
            "------------------------------------------\n",
            "['Jose', 'Pedro', 'Karina']\n",
            "['Josue', 'Liliana', 'Dalia']\n",
            "['Jose', 'Pedro', 'Karina', 'Josue', 'Liliana', 'Dalia']\n",
            "['Josue', 'Liliana', 'Dalia', 'Jesus', 'Maria', 'Jose']\n",
            "------------------------------------------\n",
            "Jesus esta en la posicion:  3\n",
            "------------------------------------------\n",
            "['Josue', 'Liliana', 'Dalia', 'Jesus', 'Espiritu santo', 'Maria', 'Jose']\n",
            "------------------------------------------\n",
            "['Josue', 'Liliana', 'Dalia', 'Jesus', 'Espiritu santo', 'Maria']\n",
            "Jose\n"
          ]
        }
      ]
    },
    {
      "cell_type": "markdown",
      "metadata": {
        "id": "raLTHMeHvcgl"
      },
      "source": [
        "### 09/11/2021"
      ]
    },
    {
      "cell_type": "markdown",
      "metadata": {
        "id": "q_zgu4rnv84A"
      },
      "source": [
        "# Tuplas\n",
        "\n",
        "### Caracteristicas de las tuplas\n",
        "- Datos agrupados\n",
        "- Es una estruccutra secuencial, indexada a partir de 0 \n",
        "- Pueden tener de 0 a n elementos \n",
        "- NO SON MUTABLES (no se pueden eliminar y/o modificar)\n",
        "- Son buenas para ñlmacenar información de consulta \n",
        "- Pueden almacenar información de diferentes tipos de datos \n",
        "- Pueden estar anidadas \n",
        "- Tienen méetodos utiles\n",
        "- Se declara usando:  \n",
        "  - ()\n",
        "  - Constructor \n"
      ]
    },
    {
      "cell_type": "code",
      "metadata": {
        "colab": {
          "base_uri": "https://localhost:8080/"
        },
        "id": "EVFMPzj9xARh",
        "outputId": "15349ab0-33d8-4f8e-905a-f7b17a6a396b"
      },
      "source": [
        "info = (\"Juan20\", \"dios123\", \"123.232.1.12\")\n",
        "print (info)\n",
        "print (info[1])\n",
        "\n",
        "numeros = (0,1,2,3,4,5,6,7,8,9,10,11,12,13,14,15)\n",
        "print (numeros)\n",
        "print (numeros[5:11])\n",
        "\n",
        "cosa = (info,numeros)\n",
        "print (cosa)\n",
        "print (cosa[1][5:11:1] )\n",
        "print (cosa[0][2][4:7])\n",
        "\n",
        "\n",
        "\n",
        "\n",
        "\n"
      ],
      "execution_count": null,
      "outputs": [
        {
          "output_type": "stream",
          "name": "stdout",
          "text": [
            "('Juan20', 'dios123', '123.232.1.12')\n",
            "dios123\n",
            "(0, 1, 2, 3, 4, 5, 6, 7, 8, 9, 10, 11, 12, 13, 14, 15)\n",
            "(5, 6, 7, 8, 9, 10)\n",
            "(('Juan20', 'dios123', '123.232.1.12'), (0, 1, 2, 3, 4, 5, 6, 7, 8, 9, 10, 11, 12, 13, 14, 15))\n",
            "(5, 6, 7, 8, 9, 10)\n",
            "232\n"
          ]
        }
      ]
    },
    {
      "cell_type": "markdown",
      "metadata": {
        "id": "Wqf9DYNz0qlo"
      },
      "source": [
        "# Metodos de las tuplas \n",
        "- Son las mismas que las listas pero no permiten la mutabilidad"
      ]
    },
    {
      "cell_type": "code",
      "metadata": {
        "colab": {
          "base_uri": "https://localhost:8080/"
        },
        "id": "cB4p47531EP2",
        "outputId": "81b2a786-8935-47f6-8a50-2ce76ed85f1a"
      },
      "source": [
        "dir (tuple)"
      ],
      "execution_count": null,
      "outputs": [
        {
          "output_type": "execute_result",
          "data": {
            "text/plain": [
              "['__add__',\n",
              " '__class__',\n",
              " '__contains__',\n",
              " '__delattr__',\n",
              " '__dir__',\n",
              " '__doc__',\n",
              " '__eq__',\n",
              " '__format__',\n",
              " '__ge__',\n",
              " '__getattribute__',\n",
              " '__getitem__',\n",
              " '__getnewargs__',\n",
              " '__gt__',\n",
              " '__hash__',\n",
              " '__init__',\n",
              " '__init_subclass__',\n",
              " '__iter__',\n",
              " '__le__',\n",
              " '__len__',\n",
              " '__lt__',\n",
              " '__mul__',\n",
              " '__ne__',\n",
              " '__new__',\n",
              " '__reduce__',\n",
              " '__reduce_ex__',\n",
              " '__repr__',\n",
              " '__rmul__',\n",
              " '__setattr__',\n",
              " '__sizeof__',\n",
              " '__str__',\n",
              " '__subclasshook__',\n",
              " 'count',\n",
              " 'index']"
            ]
          },
          "metadata": {},
          "execution_count": 13
        }
      ]
    },
    {
      "cell_type": "markdown",
      "metadata": {
        "id": "crofV1E02yXF"
      },
      "source": [
        "# Diccionarios \n",
        "### Caracteristicas \n",
        "- Agrupan datos, pero de forma no lineal \n",
        "- Se declaran: {} dict()\n",
        "- Formado por pares de tipo llave:valor, donde: \n",
        "  - La llave es de tipo string \n",
        "  - El valor puede ser de cualquier tipo de datos, incluyendo los diccionarios\n",
        "- Se seleccionan con las llaves de la forma: \n",
        "  [\"id_llave\"]\n",
        "- SON MUTABLES \n",
        "- Son anidables\n",
        "- Son equivalentes al tipo de dato JSON del lenguaje JavaScript (JS)"
      ]
    },
    {
      "cell_type": "code",
      "metadata": {
        "colab": {
          "base_uri": "https://localhost:8080/"
        },
        "id": "svMqEJhL35DP",
        "outputId": "e9c4b396-ce67-4470-85ab-2dbfba22dd6a"
      },
      "source": [
        "alumno = {\"Nombre\" : \"Jose\"}\n",
        "print (alumno)\n",
        "print (alumno[\"Nombre\"])\n",
        "alumno = {\"Nombre\" : \"Jose\", \"nc\" : \"22225353\", \"Edad\" : 18}\n",
        "print (\"Edad del alumno = \",alumno[\"Edad\"])\n",
        "print (alumno[\"Nombre\"].upper())\n",
        "\n",
        "print (\"Alumno 2\")\n",
        "alumno2 = dict () #Es un diccionario que al momento estan vacios \n",
        "alumno2[\"nombre\"] = \"Jose\" \n",
        "print (alumno2)\n",
        "alumno2[\"nc\"] = \"22225353\" \n",
        "alumno2[\"edad\"] = 18 \n",
        "print (alumno2)\n",
        "alumno2[\"edad\"] = alumno2[\"edad\"] + 1\n",
        "print (alumno2)"
      ],
      "execution_count": null,
      "outputs": [
        {
          "output_type": "stream",
          "name": "stdout",
          "text": [
            "{'Nombre': 'Jose'}\n",
            "Jose\n",
            "Edad del alumno =  18\n",
            "JOSE\n",
            "Alumno 2\n",
            "{'nombre': 'Jose'}\n",
            "{'nombre': 'Jose', 'nc': '22225353', 'edad': 18}\n",
            "{'nombre': 'Jose', 'nc': '22225353', 'edad': 19}\n"
          ]
        }
      ]
    },
    {
      "cell_type": "code",
      "metadata": {
        "colab": {
          "base_uri": "https://localhost:8080/"
        },
        "id": "jnBmSA0I8Okh",
        "outputId": "b291c4bb-8d40-47dd-9ba0-1ef9fd6edda5"
      },
      "source": [
        "cliente = {\"id\" : \"CT2134\", \n",
        "           \"nombre\" : \"Jose Pedroza Rosales\", \n",
        "           \"telefono\" : \"casa: 55543211 cel= 5610493262\" }\n",
        "print(cliente)\n",
        "cliente = {\"id\" : \"CT2134\", \n",
        "           \"nombre\" : {\n",
        "               \"nombres\" : [\"Jose\", \"Eduardo\"],\n",
        "               \"paterno\" : \"Pedroza\",\n",
        "               \"materno\" : \"Rosales\"\n",
        "           },\n",
        "           \"telefonos\" : {\n",
        "               \"casa\" : \"5567899765\",\n",
        "               \"trabajo\" : \"555678897\",\n",
        "               \"celular\" : \"5610493262\"\n",
        "           },\n",
        "           \"productos\" : {\n",
        "               \"ahorro\" : {\"numero_cuenta\": \"7788\", \"ahorros\": 2500.5},\n",
        "               \"tarjetas\" : [\n",
        "                              {\"tipo\": \"debito\", \"saldo\":10000.5},\n",
        "                              {\"tipo\": \"credito perferente\" , \"limite\" : 2500000.5},\n",
        "                              {\"tipo\": \"lite\", \"limite\":15000.5},\n",
        "               ]\n",
        "           },\n",
        "           \"direccion\":{\n",
        "               \"calle\": \"Av. Central\", \n",
        "               \"numero\": 1245,\n",
        "               \"colonia\": \"impulsora\",\n",
        "               \"delegacion\": \"neza\",\n",
        "               \"estado\" : {\n",
        "                   \"clave de estado\": 15,\n",
        "                   \"nombre_corto\": \"EDOMEX\",\n",
        "                   \"nombre\" : \"Estado de Mexico\"\n",
        "               }\n",
        "           }\n",
        "           }\n",
        "print(cliente[\"telefonos\"][\"casa\"])\n",
        "print(cliente)\n",
        "print(cliente[\"productos\"][\"ahorro\"][\"ahorros\"])\n",
        "print(cliente[\"productos\"][\"tarjetas\"][2][\"limite\"])\n",
        "print(cliente[\"direccion\"][\"estado\"][\"nombre\"].upper())\n",
        "print(\"----------------11/11/21-----------------------------\")\n",
        "cliente[\"productos\"][\"ahorro\"][\"ahorros\"] -=1500\n",
        "print(cliente[\"productos\"][\"ahorro\"][\"ahorros\"])\n",
        "\n"
      ],
      "execution_count": null,
      "outputs": [
        {
          "output_type": "stream",
          "name": "stdout",
          "text": [
            "{'id': 'CT2134', 'nombre': 'Jose Pedroza Rosales', 'telefono': 'casa: 55543211 cel= 5610493262'}\n",
            "5567899765\n",
            "{'id': 'CT2134', 'nombre': {'nombres': ['Jose', 'Eduardo'], 'paterno': 'Pedroza', 'materno': 'Rosales'}, 'telefonos': {'casa': '5567899765', 'trabajo': '555678897', 'celular': '5610493262'}, 'productos': {'ahorro': {'numero_cuenta': '7788', 'ahorros': 2500.5}, 'tarjetas': [{'tipo': 'debito', 'saldo': 10000.5}, {'tipo': 'credito perferente', 'limite': 2500000.5}, {'tipo': 'lite', 'limite': 15000.5}]}, 'direccion': {'calle': 'Av. Central', 'numero': 1245, 'colonia': 'impulsora', 'delegacion': 'neza', 'estado': {'clave de estado': 15, 'nombre_corto': 'EDOMEX', 'nombre': 'Estado de Mexico'}}}\n",
            "2500.5\n",
            "15000.5\n",
            "ESTADO DE MEXICO\n",
            "----------------11/11/21-----------------------------\n",
            "1000.5\n"
          ]
        }
      ]
    },
    {
      "cell_type": "markdown",
      "metadata": {
        "id": "oSTlk0VhDPrQ"
      },
      "source": [
        "# 11/11/21"
      ]
    },
    {
      "cell_type": "markdown",
      "metadata": {
        "id": "OpUhBgKEDUQr"
      },
      "source": [
        ""
      ]
    },
    {
      "cell_type": "code",
      "metadata": {
        "colab": {
          "base_uri": "https://localhost:8080/"
        },
        "id": "8k17kBMhJWLx",
        "outputId": "46b8239a-7e92-4c93-a5d1-5f3b86022085"
      },
      "source": [
        "pelicula = {\n",
        "    \"Nombre_Pelicula\": \"The Amazing Spiderman\",\n",
        "    \"Nombre_Actor_Estelar\" : \"Andrew Garfield\",\n",
        "    \"Fecha_Estreno\": \"6/06/2012\",\n",
        "    \"Fondos_Totales\" : \"758 millones de dolares\",\n",
        "    \"Director\": \"Marc Webb\"\n",
        "}\n",
        "print(pelicula)\n",
        "print(\"Titulo de la pelicula: \",pelicula[\"Nombre_Pelicula\"])\n"
      ],
      "execution_count": null,
      "outputs": [
        {
          "output_type": "stream",
          "name": "stdout",
          "text": [
            "{'Nombre_Pelicula': 'The Amazing Spiderman', 'Nombre_Actor_Estelar': 'Andrew Garfield', 'Fecha_Estreno': '6/06/2012', 'Fondos_Totales': '758 millones de dolares', 'Director': 'Marc Webb'}\n",
            "Titulo de la pelicula:  The Amazing Spiderman\n"
          ]
        }
      ]
    },
    {
      "cell_type": "markdown",
      "metadata": {
        "id": "KVcTwCsQMubS"
      },
      "source": [
        "# Estructuras de control \n",
        "\n",
        "Se puede crear cualquier tipo de algoritmo empleando solamente 3 estructuras de control: \n",
        "1. Secuencia: \n",
        "  - Representación de la memoria de programa (arquitectura von Newman). \n",
        "2. Selección: \n",
        "  - Es la estructura de control que decide si un bloque de programa se ejecuta o no, tambien permite seleccionar ejecutar un bloque entre un conjunto de opciones.\n",
        "  En resumen tenemos: SELECCION simple, bifurcación y multiple \n",
        "3. Repetición: \n",
        "  - Este tipo de estructura nos permite automatizar, la ejecución repetitiva de código mientras ciertas condiciones se cumplan. Tenemos 3 variantes de esta estructura en todos los lenguajes de programación:\n",
        "    - Desde...Hasta (for)\n",
        "    - Haz mientras (while)\n",
        "    - Haz y luego valida mientras (do-while)\n",
        "    "
      ]
    },
    {
      "cell_type": "markdown",
      "metadata": {
        "id": "S12E9H_TSHlm"
      },
      "source": [
        "# Selección simple\n",
        "\n",
        "La estructura if\n",
        "  - Para establecer el cuerpo de una estructura de control en python se usan los tabuladores a la izquierda, en otro lenguajes como C, C++ se usan las llaves {}"
      ]
    },
    {
      "cell_type": "code",
      "metadata": {
        "colab": {
          "base_uri": "https://localhost:8080/"
        },
        "id": "98q0uI4MPYdz",
        "outputId": "4ed7a164-10e8-4b9d-b207-8ad4393127a7"
      },
      "source": [
        "# Estructura de selección simple (IF)\n",
        "\n",
        "edad = int(input(\"Dame tu edad: \"))\n",
        "print(f\"Tecleaste {edad} años\" )\n",
        "\n",
        "if edad >= 18 :\n",
        "    print(\"ERES MAYOR DE EDAD\") #Los tabuladores se usan para determinar los cuerpos de diferentes estructuras\n",
        "print(\"ALGO\")\n",
        "print(\"FIN DEL PROGRAMA\")"
      ],
      "execution_count": null,
      "outputs": [
        {
          "output_type": "stream",
          "name": "stdout",
          "text": [
            "Dame tu edad: 18\n",
            "Tecleaste 18 años\n",
            "ERES MAYOR DE EDAD\n",
            "ALGO\n",
            "FIN DEL PROGRAMA\n"
          ]
        }
      ]
    },
    {
      "cell_type": "code",
      "metadata": {
        "colab": {
          "base_uri": "https://localhost:8080/"
        },
        "id": "538JnZe_WeDB",
        "outputId": "edb91dd2-f3fc-471e-c3f5-9364751e741b"
      },
      "source": [
        "CAL = float(input(\"Ingresa tu calificación: \"))\n",
        "print(f\"Tu calificación fue de: {CAL}\" )\n",
        "    \n",
        "if CAL > 8 :\n",
        "    print(\"Aprobado\")\n",
        "print(\"FIN DEL PROGRAMA\")"
      ],
      "execution_count": null,
      "outputs": [
        {
          "output_type": "stream",
          "name": "stdout",
          "text": [
            "Ingresa tu calificación: 7.9\n",
            "Tu calificación fue de: 7.9\n",
            "FIN DEL PROGRAMA\n"
          ]
        }
      ]
    },
    {
      "cell_type": "code",
      "metadata": {
        "colab": {
          "base_uri": "https://localhost:8080/"
        },
        "id": "A1P92-JDXanO",
        "outputId": "85e5dd59-ec21-4c10-d420-288257098a3c"
      },
      "source": [
        "SUE = float(input(\"Escribe el sueldo: \"))\n",
        "AUM = 0 \n",
        "NSUE = 0\n",
        "\n",
        "if SUE < 1000 :\n",
        "    AUM = SUE* 0.15\n",
        "    NSUE = SUE + AUM\n",
        "    print(f\"Tu sueldo con el aumneto incluido es {NSUE}\")"
      ],
      "execution_count": null,
      "outputs": [
        {
          "output_type": "stream",
          "name": "stdout",
          "text": [
            "Escribe el sueldo: 976\n",
            "Tu sueldo con el aumneto incluido es 1122.4\n"
          ]
        }
      ]
    },
    {
      "cell_type": "markdown",
      "metadata": {
        "id": "-oCKI4QicGZl"
      },
      "source": [
        "# 18/11/21\n",
        "\n",
        "#Estructura de selección de bifurcación (if-else)\n",
        "\n",
        "Esta estructura selecciona una de dos opciones de ejecución, se ejecuta un bloque si la condición se cumple o se ejecuta otro bloque si la condición no se cumple (else).\n",
        "\n",
        "```\n",
        "if <condicion> \n",
        "    <bloque de ejecución>\n",
        "else:    \n",
        "    <bloque de ejecución alterno>\n",
        "```"
      ]
    },
    {
      "cell_type": "code",
      "metadata": {
        "colab": {
          "base_uri": "https://localhost:8080/"
        },
        "id": "QCnFb9OrHfyv",
        "outputId": "01e24f7e-e5cc-44bb-98e3-03a93467752a"
      },
      "source": [
        "edad = int(input(\"Dame tu edad: \"))\n",
        "print(f\"Tecleaste {edad} años\" )\n",
        "\n",
        "if edad >= 18 :\n",
        "    print(\"ERES MAYOR DE EDAD, ten tú cheve\") #Los tabuladores se usan para determinar los cuerpos de diferentes estructuras\n",
        "else :\n",
        "    print(\"ERES MENOR DE EDAD, te tú boing\")\n",
        "print(\"Fin del programa\")\n"
      ],
      "execution_count": 7,
      "outputs": [
        {
          "output_type": "stream",
          "name": "stdout",
          "text": [
            "Dame tu edad: 18\n",
            "Tecleaste 18 años\n",
            "ERES MAYOR DE EDAD, ten tú cheve\n",
            "Fin del programa\n"
          ]
        }
      ]
    },
    {
      "cell_type": "code",
      "metadata": {
        "colab": {
          "base_uri": "https://localhost:8080/"
        },
        "id": "ZKYbU_tOJKqy",
        "outputId": "6cff0710-991b-4d6b-9005-ea5cbc098ded"
      },
      "source": [
        "# cheve = 36\n",
        "\n",
        "edad = int(input(\"Dame tu edad: \"))\n",
        "print(f\"Tecleaste {edad} años\" )\n",
        "dinero = float(input(\"Ingresa la cantidad de dinero que tienes: \"))\n",
        "print(f\"Tu dinero actual es {dinero} pesos\" )\n",
        "\n",
        "if edad >= 18 and dinero >=36 :\n",
        "    print(\"ERES MAYOR DE EDAD, ten tú cheve\") #Los tabuladores se usan para determinar los cuerpos de diferentes estructuras\n",
        "else :\n",
        "    print(\"ERES MENOR DE EDAD, ten tú boing\")\n",
        "print(\"---Fin del programa---\")"
      ],
      "execution_count": 10,
      "outputs": [
        {
          "output_type": "stream",
          "name": "stdout",
          "text": [
            "Dame tu edad: 18\n",
            "Tecleaste 18 años\n",
            "Ingresa la cantidad de dinero que tienes: 89\n",
            "Tu dinero actual es 89.0 pesos\n",
            "ERES MAYOR DE EDAD, ten tú cheve\n",
            "---Fin del programa---\n"
          ]
        }
      ]
    },
    {
      "cell_type": "code",
      "metadata": {
        "colab": {
          "base_uri": "https://localhost:8080/"
        },
        "id": "EUazS3MqKO7H",
        "outputId": "84a6a7cb-2428-47e0-81a4-cfbd5ba0e9da"
      },
      "source": [
        "edad = int (input(\"Dame tu edad:\"))\n",
        "dinero = float(input(\"¿Cuánto dinero tienes?\"))\n",
        "if edad >= 18:\n",
        "    if dinero >=35:\n",
        "        print(\"Eres mayor de edad y tienes dinero, ten tu cheve\")\n",
        "    else:\n",
        "        print(\"No tienes suficiente dinero\")\n",
        "else:\n",
        "    print(\"Eres menor de edad, ten tu Boing\")\n",
        "print(\"---Fin del programa---\")\n"
      ],
      "execution_count": 12,
      "outputs": [
        {
          "output_type": "stream",
          "name": "stdout",
          "text": [
            "Dame tu edad:18\n",
            "¿Cuánto dinero tienes?23\n",
            "No tienes suficiente dinero\n",
            "Fin del programa\n"
          ]
        }
      ]
    },
    {
      "cell_type": "code",
      "metadata": {
        "colab": {
          "base_uri": "https://localhost:8080/"
        },
        "id": "RMJsBhNALuAP",
        "outputId": "fe88a88e-c984-4a3d-90f5-8d75076ba51c"
      },
      "source": [
        "edad = int (input(\"Dame tu edad:\"))\n",
        "dinero = float(input(\"¿Cuánto dinero tienes?\"))\n",
        "if edad >= 18:\n",
        "    if dinero >= 36:\n",
        "        print(\"Ten tu cheve\")\n",
        "    else:\n",
        "        print(\"Notienes dinero suficiente pero si la edad\")\n",
        "else: \n",
        "    if dinero >= 36:\n",
        "        print(\"Tienes dinero suficiente pero no la edad \")\n",
        "    else:\n",
        "        print(\"No tienes la edad ni el dinero, ve al maincra\")    \n",
        "print(\"Fin del programa \")         "
      ],
      "execution_count": 17,
      "outputs": [
        {
          "output_type": "stream",
          "name": "stdout",
          "text": [
            "Dame tu edad:15\n",
            "¿Cuánto dinero tienes?50\n",
            "Tienes dinero suficiente pero no la edad \n",
            "Fin del programa \n"
          ]
        }
      ]
    },
    {
      "cell_type": "markdown",
      "metadata": {
        "id": "MrhZ2xibMsTv"
      },
      "source": [
        "El código anterior se puede simplificar una palabra reservada, que existe en algunos lenguajes de programación. Esta palabra reservada es elif"
      ]
    },
    {
      "cell_type": "code",
      "metadata": {
        "colab": {
          "base_uri": "https://localhost:8080/"
        },
        "id": "V6PUvp_jM8WF",
        "outputId": "c29d83bf-c055-40c0-aa6a-5292e4215b73"
      },
      "source": [
        "edad = int(input(\"Dame tu edad: \"))\n",
        "dinero = float(input(\"Cuanto dinero tienes: \"))\n",
        "print(f\"Tecleaste {edad} años\")\n",
        "print(f\"Tecleaste {dinero} dinero\")\n",
        "if edad >= 18 :\n",
        "    if dinero >=36 :\n",
        "        print(\"Ten tu cheve\")\n",
        "    else:\n",
        "        print(\"tienes la edad pero no tienes dinero suficiente\")\n",
        "elif dinero >= 36 :\n",
        "    print(\"Tienes dinero suficiente pero no tienes la edad\")\n",
        "else:\n",
        "    print(\"No tienes la edad ni el dinero, ve a jugar roblox a tu casa\")"
      ],
      "execution_count": 21,
      "outputs": [
        {
          "output_type": "stream",
          "name": "stdout",
          "text": [
            "Dame tu edad: 18\n",
            "Cuanto dinero tienes: 12\n",
            "Tecleaste 18 años\n",
            "Tecleaste 12.0 dinero\n",
            "tienes la edad pero no tienes dinero suficiente\n"
          ]
        }
      ]
    },
    {
      "cell_type": "code",
      "metadata": {
        "colab": {
          "base_uri": "https://localhost:8080/"
        },
        "id": "xadrULvnOm1c",
        "outputId": "0aa898ed-acad-4b76-b566-5fba3dde2307"
      },
      "source": [
        "CAL = float(input(\"Ingresa tu calificación: \"))\n",
        "print(f\"Tu calificación fue de: {CAL}\" )\n",
        "    \n",
        "if CAL >= 8 :\n",
        "    print(\"Aprobado\")\n",
        "else:\n",
        "    print(\"Reprobado\")\n",
        "print(\"FIN DEL PROGRAMA\")"
      ],
      "execution_count": 25,
      "outputs": [
        {
          "output_type": "stream",
          "name": "stdout",
          "text": [
            "Ingresa tu calificación: 7.99\n",
            "Tu calificación fue de: 7.99\n",
            "Reprobado\n",
            "FIN DEL PROGRAMA\n"
          ]
        }
      ]
    },
    {
      "cell_type": "code",
      "metadata": {
        "colab": {
          "base_uri": "https://localhost:8080/"
        },
        "id": "-XuO3MmiPHg4",
        "outputId": "81306a1a-3df9-4f47-fb49-4d129279479d"
      },
      "source": [
        "# ejemplo 2.4\n",
        "SUE = float(input(\"Escribe el sueldo: \"))\n",
        "AUM = 0 \n",
        "NSUE = 0\n",
        "\n",
        "if SUE < 1000 :\n",
        "    AUM = SUE* 0.15\n",
        "    NSUE = SUE + AUM\n",
        "    print(f\"Tu sueldo con el aumneto incluido es {NSUE}\")\n",
        "else: \n",
        "    AUM = SUE* 0.12\n",
        "    NSUE = SUE + AUM\n",
        "    print(f\"Tu sueldo con el aumneto incluido es {NSUE}\")\n"
      ],
      "execution_count": 30,
      "outputs": [
        {
          "output_type": "stream",
          "name": "stdout",
          "text": [
            "Escribe el sueldo: 1000\n",
            "Tu sueldo con el aumneto incluido es 1120.0\n"
          ]
        }
      ]
    },
    {
      "cell_type": "code",
      "metadata": {
        "colab": {
          "base_uri": "https://localhost:8080/"
        },
        "id": "ykZLNN75ROtL",
        "outputId": "c7723222-6111-4d46-876c-46b84c6c15fb"
      },
      "source": [
        "# ejemplo 2.4\n",
        "SUE=float(input(\"Dame tu sueldo: \"))\n",
        "if SUE<1000:\n",
        "    NSUE=SUE*1.15\n",
        "else:\n",
        "    NSUE=SUE*1.12\n",
        "print(f\"Tu nuevo sueldo es: {NSUE}\")\n"
      ],
      "execution_count": 33,
      "outputs": [
        {
          "output_type": "stream",
          "name": "stdout",
          "text": [
            "Dame tu sueldo: 1000\n",
            "Tu nuevo sueldo es: 1120.0\n"
          ]
        }
      ]
    },
    {
      "cell_type": "markdown",
      "metadata": {
        "id": "idKjADj9SFNt"
      },
      "source": [
        "# Ejercicio \n",
        "\n",
        "## Hacer un programa que solicite el dia de la semana en un valor numero entero del 1 al 7 (Avisarle al usuario si proporciono un valor erroneo). Posteriormente imprimira el dia de la semana correspondiente al numero capturado 1. Lunes 2. Martes..... hasta el 7. domingo "
      ]
    },
    {
      "cell_type": "code",
      "metadata": {
        "colab": {
          "base_uri": "https://localhost:8080/"
        },
        "id": "rVTnk3A_So4E",
        "outputId": "78832cd4-0931-4750-88ea-1aa825e360ff"
      },
      "source": [
        "dia=int(input(\"Dame el día de la semana del 1 al 7: \"))\n",
        "\n",
        "if dia == 1:\n",
        "    print(\"Lunes\")\n",
        "elif dia == 2:\n",
        "    print(\"Martes\")\n",
        "elif dia == 3:\n",
        "    print(\"Miercoles\")\n",
        "elif dia == 4:\n",
        "    print(\"Jueves\")\n",
        "elif dia == 5:\n",
        "    print(\"Viernes\")\n",
        "elif dia == 6:\n",
        "    print(\"Sábado\")\n",
        "elif dia == 7:\n",
        "    print(\"Domingo\")\n",
        "else:\n",
        "    print(\"Debe ser un valor del 1 al 7, ingresa nuevamente\")\n",
        "print(\"--Fin del programa--\")\n"
      ],
      "execution_count": 39,
      "outputs": [
        {
          "output_type": "stream",
          "name": "stdout",
          "text": [
            "Dame el día de la semana del 1 al 7: 9\n",
            "Debe ser un valor del 1 al 7, ingresa nuevamente\n",
            "--Fin del programa\n"
          ]
        }
      ]
    },
    {
      "cell_type": "code",
      "metadata": {
        "colab": {
          "base_uri": "https://localhost:8080/"
        },
        "id": "dBve_RQrUNRe",
        "outputId": "79b8a620-4285-4ff9-80ba-256d5e7f5c2f"
      },
      "source": [
        "dia=int(input(\"Dame el día de la semana del 1-7: \"))\n",
        "if dia is 1:\n",
        "    print(\"LUNES\")\n",
        "elif dia is 2:\n",
        "    print(\"MARTES\")\n",
        "elif dia is 3:\n",
        "    print(\"MIERCOLES\")\n",
        "elif dia is 4:\n",
        "    print(\"JUEVES\")\n",
        "elif dia is 5:\n",
        "    print(\"VIERNES\")\n",
        "elif dia is 6:\n",
        "    print(\"SÁBADO\")\n",
        "elif dia is 7:\n",
        "    print(\"DOMINGO\")\n",
        "else:\n",
        "    print(\"Debe ser un numero del 1 al 7, ingresa nuevamente\")"
      ],
      "execution_count": 40,
      "outputs": [
        {
          "output_type": "stream",
          "name": "stdout",
          "text": [
            "Dame el día de la semana del 1-7: 9\n",
            "Debe ser un numero del 1 al 7, ingresa nuevamente\n"
          ]
        }
      ]
    },
    {
      "cell_type": "code",
      "metadata": {
        "colab": {
          "base_uri": "https://localhost:8080/"
        },
        "id": "N72c9QB6U0mI",
        "outputId": "ea2fcb58-6964-4022-c7bd-77b5147f5a17"
      },
      "source": [
        "#Ejemplo profesor \n",
        "dia = int( input(\"Ingresa un numero entre 1 y 7:\"))\n",
        "print(f\"Capturaste el numero { dia }\")\n",
        " \n",
        "if dia >=1 and dia <= 7:\n",
        "    if dia == 1:\n",
        "        print(\"Lunes\")\n",
        "    else:\n",
        "        if dia == 2:\n",
        "            print(\"Martes\")\n",
        "        else:\n",
        "            if dia == 3:\n",
        "                print(\"Miércoles\")\n",
        "            else:\n",
        "                if dia == 4:\n",
        "                    print(\"Jueves\")\n",
        "                else:\n",
        "                    if dia == 5:\n",
        "                        print(\"Viernes\")\n",
        "                    else:\n",
        "                        if dia == 6:\n",
        "                            print(\"Sábado\")\n",
        "                        else:\n",
        "                            print(\"Domingo\")\n",
        " \n",
        "else:\n",
        "    print(\"Ese numero no esta dentro del rango solicitado\")\n",
        "\n"
      ],
      "execution_count": 44,
      "outputs": [
        {
          "output_type": "stream",
          "name": "stdout",
          "text": [
            "Ingresa un numero entre 1 y 7:7\n",
            "Capturaste el numero 7\n",
            "Domingo\n"
          ]
        }
      ]
    },
    {
      "cell_type": "markdown",
      "metadata": {
        "id": "vOqsd5-EZmxf"
      },
      "source": [
        "#Tarea\n",
        "## Hacer un programa que pida dos numeros entero y que imprima en pantala los siguiente:\n",
        "    Cual de ellos es el numero mayor\n",
        "    Cual de ellos es el numero menor\n",
        "    Imprimir los valors son iguales\n",
        "## Hacer un program que solicite tres número enteros diferentes entre si y que imprima lo siguiente:\n",
        "    Cual de los tres es el mayor \n",
        "    Cual de los tres es el menor \n",
        "## Hacer un programa que solicie 4 números enteros diferentes entre si y que imprima:\n",
        "    Cual es el menor  \n",
        "    Cual es el mayor \n"
      ]
    },
    {
      "cell_type": "markdown",
      "metadata": {
        "id": "9Guypeama7ho"
      },
      "source": [
        "# Selección multiple (switch)\n",
        "En python no existe la estructura switch, en su lugar se emplea la palabra reservada \n",
        "\n",
        "```\n",
        "elif <condicon>\n",
        "```"
      ]
    },
    {
      "cell_type": "code",
      "metadata": {
        "colab": {
          "base_uri": "https://localhost:8080/"
        },
        "id": "M_GjvBWrcfQF",
        "outputId": "a5e5be7a-826f-48e0-a7e6-c4322af1bb0d"
      },
      "source": [
        "# ejemplo 2.7\n",
        " \n",
        "NUM = int(input(\"dame un numero entre 1 y 3:\"))\n",
        "V = float(input(\"Dame un valor float:\"))\n",
        "VAL = 0\n",
        "if NUM == 1:\n",
        "    VAL = 100 * V\n",
        "elif NUM == 2:\n",
        "    VAL = 100 ** V\n",
        "elif NUM == 3 :\n",
        "    VAL =100/V\n",
        "else:\n",
        "    VAL = 0\n",
        " \n",
        "print(VAL)\n",
        "    \n",
        "\n"
      ],
      "execution_count": 45,
      "outputs": [
        {
          "output_type": "stream",
          "name": "stdout",
          "text": [
            "dame un numero entre 1 y 3:3\n",
            "Dame un valor float:2\n",
            "50.0\n"
          ]
        }
      ]
    }
  ]
}