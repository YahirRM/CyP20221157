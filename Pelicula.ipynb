{
  "nbformat": 4,
  "nbformat_minor": 0,
  "metadata": {
    "colab": {
      "name": "Pelicula.ipynb",
      "provenance": [],
      "authorship_tag": "ABX9TyMlzM96JxVa3ivDzb0dfl9e",
      "include_colab_link": true
    },
    "kernelspec": {
      "name": "python3",
      "display_name": "Python 3"
    },
    "language_info": {
      "name": "python"
    }
  },
  "cells": [
    {
      "cell_type": "markdown",
      "metadata": {
        "id": "view-in-github",
        "colab_type": "text"
      },
      "source": [
        "<a href=\"https://colab.research.google.com/github/YahirRM/CyP20221157/blob/main/Pelicula.ipynb\" target=\"_parent\"><img src=\"https://colab.research.google.com/assets/colab-badge.svg\" alt=\"Open In Colab\"/></a>"
      ]
    },
    {
      "cell_type": "code",
      "metadata": {
        "colab": {
          "base_uri": "https://localhost:8080/"
        },
        "id": "QGXm5FiuLQdf",
        "outputId": "2133a11e-8b76-4eba-c6dc-f400a7c6020e"
      },
      "source": [
        "pelicula = {\n",
        "    \"Nombre_Pelicula\": \"The Amazing Spiderman\",\n",
        "    \"Nombre_Actor_Estelar\" : \"Andrew Garfield\",\n",
        "    \"Fecha_Estreno\": \"6/06/2012\",\n",
        "    \"Fondos_Totales\" : \"758 millones de dolares\",\n",
        "    \"Director\": \"Marc Webb\"\n",
        "}\n",
        "print(pelicula)\n",
        "print(\"Titulo de la pelicula: \",pelicula[\"Nombre_Pelicula\"])"
      ],
      "execution_count": 1,
      "outputs": [
        {
          "output_type": "stream",
          "name": "stdout",
          "text": [
            "{'Nombre_Pelicula': 'The Amazing Spiderman', 'Nombre_Actor_Estelar': 'Andrew Garfield', 'Fecha_Estreno': '6/06/2012', 'Fondos_Totales': '758 millones de dolares', 'Director': 'Marc Webb'}\n",
            "Titulo de la pelicula:  The Amazing Spiderman\n"
          ]
        }
      ]
    }
  ]
}