{
  "nbformat": 4,
  "nbformat_minor": 0,
  "metadata": {
    "colab": {
      "name": "Ejercicio2.12_CyP_1157ipynb",
      "provenance": [],
      "authorship_tag": "ABX9TyMoJ7wnWq6LBB5WwjyBoqi1",
      "include_colab_link": true
    },
    "kernelspec": {
      "name": "python3",
      "display_name": "Python 3"
    },
    "language_info": {
      "name": "python"
    }
  },
  "cells": [
    {
      "cell_type": "markdown",
      "metadata": {
        "id": "view-in-github",
        "colab_type": "text"
      },
      "source": [
        "<a href=\"https://colab.research.google.com/github/YahirRM/CyP20221157/blob/main/Ejercicio2_12_CyP_1157ipynb.ipynb\" target=\"_parent\"><img src=\"https://colab.research.google.com/assets/colab-badge.svg\" alt=\"Open In Colab\"/></a>"
      ]
    },
    {
      "cell_type": "code",
      "metadata": {
        "colab": {
          "base_uri": "https://localhost:8080/"
        },
        "id": "i9iVV2lY98fd",
        "outputId": "15f40199-9611-41d3-ddeb-e475e07491dc"
      },
      "source": [
        "#Ejercicio 2.21\n",
        "print(\"--------Ingrese 3 números enteros diferentes entre si--------\")\n",
        "a = int(input(\"Ingresa un primer número entero: \"))\n",
        "b = int(input(\"Ingresa un segundo número entero: \"))\n",
        "c = int(input(\"Ingresa un tercer número entero: \"))\n",
        "\n",
        "\n",
        "if a > b and b > c:\n",
        "    print(f\"El orden correcto es: {a}, {b}, {c}\")\n",
        "elif a > c and c > b :\n",
        "    print(f\"El orden correcto es: {a}, {c}, {b}\")\n",
        "elif b>a and a>c:\n",
        "   print(f\"El orden correcto es: {b}, {a}, {c}\")\n",
        "elif b>c and  c>a:\n",
        "   print(f\"El orden correcto es: {b}, {c}, {a}\")\n",
        "elif c>a and a>b:\n",
        "   print(f\"El orden correcto es: {c}, {a}, {b}\")\n",
        "elif c>b and b>a:\n",
        "   print(f\"El orden correcto es: {c}, {b}, {a}\")\n",
        "\n"
      ],
      "execution_count": 1,
      "outputs": [
        {
          "output_type": "stream",
          "name": "stdout",
          "text": [
            "--------Ingrese 3 números enteros diferentes entre si--------\n",
            "Ingresa un primer número entero: 5\n",
            "Ingresa un segundo número entero: 2\n",
            "Ingresa un tercer número entero: 6\n",
            "El orden correcto es: 6, 5, 2\n"
          ]
        }
      ]
    }
  ]
}