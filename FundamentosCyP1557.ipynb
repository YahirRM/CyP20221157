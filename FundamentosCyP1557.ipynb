{
  "nbformat": 4,
  "nbformat_minor": 0,
  "metadata": {
    "colab": {
      "name": "FundamentosCyP1557",
      "provenance": [],
      "authorship_tag": "ABX9TyMkQGhjVp1NflFmZsgy0w7m",
      "include_colab_link": true
    },
    "kernelspec": {
      "name": "python3",
      "display_name": "Python 3"
    },
    "language_info": {
      "name": "python"
    }
  },
  "cells": [
    {
      "cell_type": "markdown",
      "metadata": {
        "id": "view-in-github",
        "colab_type": "text"
      },
      "source": [
        "<a href=\"https://colab.research.google.com/github/YahirRM/CyP20221157/blob/main/FundamentosCyP1557.ipynb\" target=\"_parent\"><img src=\"https://colab.research.google.com/assets/colab-badge.svg\" alt=\"Open In Colab\"/></a>"
      ]
    },
    {
      "cell_type": "code",
      "metadata": {
        "colab": {
          "base_uri": "https://localhost:8080/"
        },
        "id": "Pj7_dNvBVhmT",
        "outputId": "1d1c287c-56e4-49f4-8c93-f7f7462164ad"
      },
      "source": [
        "nombre = \"jose\"  #tipo de dato String  (cadena de caracteres)\n",
        "\n",
        "print (nombre)\n",
        "\n"
      ],
      "execution_count": null,
      "outputs": [
        {
          "output_type": "stream",
          "name": "stdout",
          "text": [
            "jose\n"
          ]
        }
      ]
    },
    {
      "cell_type": "markdown",
      "metadata": {
        "id": "NysaVPuAXMo4"
      },
      "source": [
        "### 12/10/2021\n",
        "#Tipos de datos en Python\n",
        "\n",
        "\n",
        "###Tipos simples \n",
        "- str --> String o cadenas de caracteres\n",
        "- int --> Números enteros\n",
        "- float --> Números con notación de punto flotante \n",
        "- complex --> Números complejos \n",
        "- bool --> Datos de verdadero o falso \n",
        "- byte --> 8 bits\n",
        "\n",
        "###Tipos de datos estructurados (compuestos)\n",
        "- list --> Listas (arreglos en otros lenguajes)\n",
        "- tuple --> Listas no mutables \n",
        "- dic --> Diccionarios \n",
        "- set y frozenset --> Conjuntos\n"
      ]
    },
    {
      "cell_type": "code",
      "metadata": {
        "colab": {
          "base_uri": "https://localhost:8080/"
        },
        "id": "iRsscRcbaRPr",
        "outputId": "0905c3ee-31b4-406d-ba4e-2144a40b8c11"
      },
      "source": [
        "import sys #Biblioteca que representa el sistema en Python\n",
        "edad = 19 #Este es un tipo de dato int (número enteros)\n",
        "print(\"Tu edad es: \",edad)\n",
        "#Este es un comentario de línea simple para ponerle una descripción a mi código \n",
        "\"\"\"\n",
        "Comentario de multiple línea \n",
        "En lenguaje C, C#, Java, el comentario de multiple linea es con \n",
        "/* .....  */\n",
        "En lenguaje C, C#, Java, el comentario de una sola linea es con \n",
        "//\n",
        "Explicas en prosa el segmento de tu código \n",
        "\"\"\"\n",
        "#Tipos de datos númerico int y float\n",
        "\n",
        "   #print ( sys.getsizeof(edad) )\n",
        "   #Cantidad de bits que usa esta variable \n",
        "\n",
        "edad = edad + 1\n",
        "print(edad)\n",
        "print ( sys.getsizeof(edad) )\n",
        "\n",
        "estatura = 1.56 #Tipo de dato flotante\n",
        "print(estatura)\n",
        "print ( sys.getsizeof(estatura) )\n",
        "estatura = estatura + 0.1\n",
        "print(estatura)\n",
        "print(round(estatura,2)) #Con round se redondea a las unidades que desees\n",
        "\n",
        "edad += 1 # edad = edad + 1\n",
        "print(\"Tu edad es: \",edad)\n",
        "\n",
        "edad -= 1 # edad = edad + 1\n",
        "print(\"Tu edad es: \",edad)\n",
        "\n",
        "edad += 1 #vuelve a 21\n",
        "edad /= 2 # edad = edad + 1\n",
        "print(\"la mitad de tu edad es: \",edad)\n",
        "\n",
        "\n",
        "edad = 21\n",
        "#Volver a calcular la mitad de la edad pero solo dejar el valor entero\n",
        "edad = edad // 2 \n",
        "print(\"la mitad de tu edad es: \",edad)\n",
        "\n",
        "#En la mayoria de los leng no permite la division entre varios tipos de datos\n",
        "\n",
        "numero = edad / 2.0\n",
        "print(numero)\n",
        "\n",
        "numero  *= 3\n",
        "print (numero)\n",
        "\n",
        "numero = 5\n",
        "numero **=3\n",
        "print (numero)\n",
        "\n",
        "#operador modulo\n",
        "numero = 21\n",
        "print( numero /2  )\n",
        "print( numero // 2)\n",
        "\n",
        "#el operador modulo da como resultado el residuo de la operacion \n",
        "print( numero % 2)\n",
        "\n",
        "numero = 24\n",
        "print (\"Residuo de 24/5: \", numero % 5)\n",
        "\n",
        "#operadores logicos o relacionales\n",
        "\n",
        "print( \"24 es par? \",numero % 2 == 0)\n",
        "\n",
        "#diferencia\n",
        "\n",
        "print (\"24 es diferente de 23= \", numero != 23 )\n",
        "print (\"24 es mayor que 23= \", numero > 23 )\n",
        "print (\"24 es menor que 23= \", numero < 23 )\n",
        "\n",
        "print (\"24 es mayor o igual que 24 \", numero >= 23 )\n",
        "print (\"24 es menor o igual que 23 \", numero <= 23 )\n",
        "\n",
        "print (\"El tipo de data de la variiable es \", type(numero))\n",
        "print (\"El tipo de data de la variiable /2.0 es \", type(numero/2.0))\n",
        "\n"
      ],
      "execution_count": null,
      "outputs": [
        {
          "output_type": "stream",
          "name": "stdout",
          "text": [
            "Tu edad es:  19\n",
            "20\n",
            "28\n",
            "1.56\n",
            "24\n",
            "1.6600000000000001\n",
            "1.66\n",
            "Tu edad es:  21\n",
            "Tu edad es:  20\n",
            "la mitad de tu edad es:  10.5\n",
            "la mitad de tu edad es:  10\n",
            "5.0\n",
            "15.0\n",
            "125\n",
            "10.5\n",
            "10\n",
            "1\n",
            "Residuo de 24/5:  4\n",
            "24 es par?  True\n",
            "24 es diferente de 23=  True\n",
            "24 es mayor que 23=  True\n",
            "24 es menor que 23=  False\n",
            "24 es mayor o igual que 24  True\n",
            "24 es menor o igual que 23  False\n",
            "El tipo de data de la variiable es  <class 'int'>\n",
            "El tipo de data de la variiable /2.0 es  <class 'float'>\n"
          ]
        }
      ]
    },
    {
      "cell_type": "markdown",
      "metadata": {
        "id": "RV0BOcN3ph0I"
      },
      "source": [
        "#Tipo de dato String (str) en Python\n",
        "\n",
        "- Se maneja como un arreglo (Tipo de dato compuesto)\n",
        "- Se puede acceder a los elementos del string por medio del indice de caracter\n",
        "- Es mutable\n",
        "- Tiene métodos útiles (potente)\n",
        "- Slicing "
      ]
    },
    {
      "cell_type": "code",
      "metadata": {
        "colab": {
          "base_uri": "https://localhost:8080/"
        },
        "id": "7L6xIp_8qG9t",
        "outputId": "8fa2e7b4-1d82-4efe-dfeb-7259177afe46"
      },
      "source": [
        "nombre =  'Yahir '\n",
        "carrera = \"Ingeniería en Computación\"\n",
        "frase = \"\"\"El conocimiento \n",
        "me persigue... \n",
        "pero \n",
        "yo soy..... \n",
        "mas rapido \"\"\"\n",
        "\n",
        "print(nombre)\n",
        "print(carrera)\n",
        "print (frase)\n",
        "#La funcion type de Python te devuelve el tipo de dato de una variable \n",
        "print ( type(nombre)) \n",
        "# Existen 4 forma para representar una cadena de valores (str)\n",
        "paterno = str ('Perez')\n",
        "print (paterno)"
      ],
      "execution_count": null,
      "outputs": [
        {
          "output_type": "stream",
          "name": "stdout",
          "text": [
            "Yahir \n",
            "Ingeniería en Computación\n",
            "El conocimiento \n",
            "me persigue... \n",
            "pero \n",
            "yo soy..... \n",
            "mas rapido \n",
            "<class 'str'>\n",
            "Perez\n"
          ]
        }
      ]
    }
  ]
}