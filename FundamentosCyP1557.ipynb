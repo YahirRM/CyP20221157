{
  "nbformat": 4,
  "nbformat_minor": 0,
  "metadata": {
    "colab": {
      "name": "FundamentosCyP1557",
      "provenance": [],
      "authorship_tag": "ABX9TyNB992A/6FpHYEwzYU/hfMP",
      "include_colab_link": true
    },
    "kernelspec": {
      "name": "python3",
      "display_name": "Python 3"
    },
    "language_info": {
      "name": "python"
    }
  },
  "cells": [
    {
      "cell_type": "markdown",
      "metadata": {
        "id": "view-in-github",
        "colab_type": "text"
      },
      "source": [
        "<a href=\"https://colab.research.google.com/github/YahirRM/CyP20221157/blob/main/FundamentosCyP1557.ipynb\" target=\"_parent\"><img src=\"https://colab.research.google.com/assets/colab-badge.svg\" alt=\"Open In Colab\"/></a>"
      ]
    },
    {
      "cell_type": "code",
      "metadata": {
        "colab": {
          "base_uri": "https://localhost:8080/"
        },
        "id": "Pj7_dNvBVhmT",
        "outputId": "1d1c287c-56e4-49f4-8c93-f7f7462164ad"
      },
      "source": [
        "nombre = \"jose\"  #tipo de dato String  (cadena de caracteres)\n",
        "\n",
        "print (nombre)\n",
        "\n"
      ],
      "execution_count": null,
      "outputs": [
        {
          "output_type": "stream",
          "name": "stdout",
          "text": [
            "jose\n"
          ]
        }
      ]
    },
    {
      "cell_type": "markdown",
      "metadata": {
        "id": "NysaVPuAXMo4"
      },
      "source": [
        "### 12/10/2021\n",
        "#Tipos de datos en Python\n",
        "\n",
        "\n",
        "###Tipos simples \n",
        "- str --> String o cadenas de caracteres\n",
        "- int --> Números enteros\n",
        "- float --> Números con notación de punto flotante \n",
        "- complex --> Números complejos \n",
        "- bool --> Datos de verdadero o falso \n",
        "- byte --> 8 bits\n",
        "\n",
        "###Tipos de datos estructurados (compuestos)\n",
        "- list --> Listas (arreglos en otros lenguajes)\n",
        "- tuple --> Listas no mutables \n",
        "- dic --> Diccionarios \n",
        "- set y frozenset --> Conjuntos\n"
      ]
    },
    {
      "cell_type": "code",
      "metadata": {
        "colab": {
          "base_uri": "https://localhost:8080/"
        },
        "id": "iRsscRcbaRPr",
        "outputId": "0905c3ee-31b4-406d-ba4e-2144a40b8c11"
      },
      "source": [
        "import sys #Biblioteca que representa el sistema en Python\n",
        "edad = 19 #Este es un tipo de dato int (número enteros)\n",
        "print(\"Tu edad es: \",edad)\n",
        "#Este es un comentario de línea simple para ponerle una descripción a mi código \n",
        "\"\"\"\n",
        "Comentario de multiple línea \n",
        "En lenguaje C, C#, Java, el comentario de multiple linea es con \n",
        "/* .....  */\n",
        "En lenguaje C, C#, Java, el comentario de una sola linea es con \n",
        "//\n",
        "Explicas en prosa el segmento de tu código \n",
        "\"\"\"\n",
        "#Tipos de datos númerico int y float\n",
        "\n",
        "   #print ( sys.getsizeof(edad) )\n",
        "   #Cantidad de bits que usa esta variable \n",
        "\n",
        "edad = edad + 1\n",
        "print(edad)\n",
        "print ( sys.getsizeof(edad) )\n",
        "\n",
        "estatura = 1.56 #Tipo de dato flotante\n",
        "print(estatura)\n",
        "print ( sys.getsizeof(estatura) )\n",
        "estatura = estatura + 0.1\n",
        "print(estatura)\n",
        "print(round(estatura,2)) #Con round se redondea a las unidades que desees\n",
        "\n",
        "edad += 1 # edad = edad + 1\n",
        "print(\"Tu edad es: \",edad)\n",
        "\n",
        "edad -= 1 # edad = edad + 1\n",
        "print(\"Tu edad es: \",edad)\n",
        "\n",
        "edad += 1 #vuelve a 21\n",
        "edad /= 2 # edad = edad + 1\n",
        "print(\"la mitad de tu edad es: \",edad)\n",
        "\n",
        "\n",
        "edad = 21\n",
        "#Volver a calcular la mitad de la edad pero solo dejar el valor entero\n",
        "edad = edad // 2 \n",
        "print(\"la mitad de tu edad es: \",edad)\n",
        "\n",
        "#En la mayoria de los leng no permite la division entre varios tipos de datos\n",
        "\n",
        "numero = edad / 2.0\n",
        "print(numero)\n",
        "\n",
        "numero  *= 3\n",
        "print (numero)\n",
        "\n",
        "numero = 5\n",
        "numero **=3\n",
        "print (numero)\n",
        "\n",
        "#operador modulo\n",
        "numero = 21\n",
        "print( numero /2  )\n",
        "print( numero // 2)\n",
        "\n",
        "#el operador modulo da como resultado el residuo de la operacion \n",
        "print( numero % 2)\n",
        "\n",
        "numero = 24\n",
        "print (\"Residuo de 24/5: \", numero % 5)\n",
        "\n",
        "#operadores logicos o relacionales\n",
        "\n",
        "print( \"24 es par? \",numero % 2 == 0)\n",
        "\n",
        "#diferencia\n",
        "\n",
        "print (\"24 es diferente de 23= \", numero != 23 )\n",
        "print (\"24 es mayor que 23= \", numero > 23 )\n",
        "print (\"24 es menor que 23= \", numero < 23 )\n",
        "\n",
        "print (\"24 es mayor o igual que 24 \", numero >= 23 )\n",
        "print (\"24 es menor o igual que 23 \", numero <= 23 )\n",
        "\n",
        "print (\"El tipo de data de la variiable es \", type(numero))\n",
        "print (\"El tipo de data de la variiable /2.0 es \", type(numero/2.0))\n",
        "\n"
      ],
      "execution_count": null,
      "outputs": [
        {
          "output_type": "stream",
          "name": "stdout",
          "text": [
            "Tu edad es:  19\n",
            "20\n",
            "28\n",
            "1.56\n",
            "24\n",
            "1.6600000000000001\n",
            "1.66\n",
            "Tu edad es:  21\n",
            "Tu edad es:  20\n",
            "la mitad de tu edad es:  10.5\n",
            "la mitad de tu edad es:  10\n",
            "5.0\n",
            "15.0\n",
            "125\n",
            "10.5\n",
            "10\n",
            "1\n",
            "Residuo de 24/5:  4\n",
            "24 es par?  True\n",
            "24 es diferente de 23=  True\n",
            "24 es mayor que 23=  True\n",
            "24 es menor que 23=  False\n",
            "24 es mayor o igual que 24  True\n",
            "24 es menor o igual que 23  False\n",
            "El tipo de data de la variiable es  <class 'int'>\n",
            "El tipo de data de la variiable /2.0 es  <class 'float'>\n"
          ]
        }
      ]
    },
    {
      "cell_type": "markdown",
      "metadata": {
        "id": "RV0BOcN3ph0I"
      },
      "source": [
        "#Tipo de dato String (str) en Python\n",
        "\n",
        "- Se maneja como un arreglo (Tipo de dato compuesto)\n",
        "- Se puede acceder a los elementos del string por medio del indice de caracter\n",
        "- Es mutable\n",
        "- Tiene métodos útiles (potente)\n",
        "- Slicing "
      ]
    },
    {
      "cell_type": "code",
      "metadata": {
        "colab": {
          "base_uri": "https://localhost:8080/"
        },
        "id": "7L6xIp_8qG9t",
        "outputId": "8fa2e7b4-1d82-4efe-dfeb-7259177afe46"
      },
      "source": [
        "nombre =  'Yahir '\n",
        "carrera = \"Ingeniería en Computación\"\n",
        "frase = \"\"\"El conocimiento \n",
        "me persigue... \n",
        "pero \n",
        "yo soy..... \n",
        "mas rapido \"\"\"\n",
        "\n",
        "print(nombre)\n",
        "print(carrera)\n",
        "print (frase)\n",
        "#La funcion type de Python te devuelve el tipo de dato de una variable \n",
        "print ( type(nombre)) \n",
        "# Existen 4 forma para representar una cadena de valores (str)\n",
        "paterno = str ('Perez')\n",
        "print (paterno)"
      ],
      "execution_count": null,
      "outputs": [
        {
          "output_type": "stream",
          "name": "stdout",
          "text": [
            "Yahir \n",
            "Ingeniería en Computación\n",
            "El conocimiento \n",
            "me persigue... \n",
            "pero \n",
            "yo soy..... \n",
            "mas rapido \n",
            "<class 'str'>\n",
            "Perez\n"
          ]
        }
      ]
    },
    {
      "cell_type": "markdown",
      "metadata": {
        "id": "ne2qZ_W9pJuP"
      },
      "source": [
        "### 14/10/21\n",
        "##Una clase (class) es un tipo de dato compuesto"
      ]
    },
    {
      "cell_type": "code",
      "metadata": {
        "colab": {
          "base_uri": "https://localhost:8080/"
        },
        "id": "sZcXkd28pczX",
        "outputId": "fdbfeb4a-6efa-4d19-c87f-94090c48604b"
      },
      "source": [
        "carrera = \"Ingeniería en Computación\"\n",
        "print( carrera )\n",
        "print ( carrera [2]) \n",
        "print ( carrera [8]) \n",
        "print ( carrera [2]) "
      ],
      "execution_count": 7,
      "outputs": [
        {
          "output_type": "stream",
          "name": "stdout",
          "text": [
            "Ingeniería en Computación\n",
            "g\n",
            "í\n"
          ]
        }
      ]
    },
    {
      "cell_type": "code",
      "metadata": {
        "id": "7Ode04gmr7Ft"
      },
      "source": [
        ""
      ],
      "execution_count": null,
      "outputs": []
    },
    {
      "cell_type": "markdown",
      "metadata": {
        "id": "Bkz58GWBrlGd"
      },
      "source": [
        "###A la sintaxis para eliegir un elemento de un conjunto de datos se le llama selector. \n",
        "\n",
        "En el caso de Strings y listas (list) se unsan los caracteres \"[ y ]\"\n",
        "1. En todos los lenguajes inician en 0.\n",
        "2. En python no existe como tal el tipo de dato arreglo, el concepto es sustituido por las listas \n",
        "3. Los strings se comportan como un arreglo en la mayoria de los lenguajes\n",
        "4. En python se acepta en idexado, en otros lenguajes NO "
      ]
    },
    {
      "cell_type": "code",
      "metadata": {
        "colab": {
          "base_uri": "https://localhost:8080/"
        },
        "id": "gzmGtftktDbj",
        "outputId": "6e55d37a-234a-4f36-de19-75214ca73033"
      },
      "source": [
        "carrera = \"Ingeniería en Computación\"\n",
        "print( carrera )\n",
        "print ( carrera [24])\n",
        "print ( carrera [-1])\n",
        "print ( carrera [-25])\n",
        "\n",
        "\n",
        "#adelantando el tema \"el ciclo FOR\"\n",
        "\n",
        "for letra in carrera: \n",
        "  print (\"-->\",letra,\"<--\")"
      ],
      "execution_count": 12,
      "outputs": [
        {
          "output_type": "stream",
          "name": "stdout",
          "text": [
            "Ingeniería en Computación\n",
            "n\n",
            "n\n",
            "I\n",
            "--> I <--\n",
            "--> n <--\n",
            "--> g <--\n",
            "--> e <--\n",
            "--> n <--\n",
            "--> i <--\n",
            "--> e <--\n",
            "--> r <--\n",
            "--> í <--\n",
            "--> a <--\n",
            "-->   <--\n",
            "--> e <--\n",
            "--> n <--\n",
            "-->   <--\n",
            "--> C <--\n",
            "--> o <--\n",
            "--> m <--\n",
            "--> p <--\n",
            "--> u <--\n",
            "--> t <--\n",
            "--> a <--\n",
            "--> c <--\n",
            "--> i <--\n",
            "--> ó <--\n",
            "--> n <--\n"
          ]
        }
      ]
    },
    {
      "cell_type": "markdown",
      "metadata": {
        "id": "XVYpvJKsu4xM"
      },
      "source": [
        "### Slicing (rebanado de cadenas)\n",
        "\n",
        "- Permite seleccionar subcadenas con el operador \n",
        "###[inicio : stop : incremento]\n",
        "\n",
        "### Slicing por defecto \n",
        "\n",
        "- Inicio por defecto sera 0: tamaño del arreglo (indexado positivo)\n",
        "0 en un indexado negativo \n",
        "- Incremento: es 1(positivo)\n"
      ]
    },
    {
      "cell_type": "code",
      "metadata": {
        "colab": {
          "base_uri": "https://localhost:8080/"
        },
        "id": "OvJ1WuwjvXph",
        "outputId": "9253e2b0-371a-4f5f-8e67-934a5ae0ded1"
      },
      "source": [
        "carrera = \"Ingeniería en Computación\"\n",
        "print (carrera[0:10:1])\n",
        "#El stop no se incluye, es por es que debemos agregar una posición extra\n",
        "print (carrera[14:25:1])\n",
        "print (carrera[-11:-1:1])\n",
        "print (carrera[:10:])\n",
        "print (carrera[14:25:])\n",
        "print (carrera[-11::1])\n",
        "\n",
        "#Solución Previa\n",
        "print (\"----------\")\n",
        "print (carrera[-11:-1:1])\n",
        "print (carrera[-11::1])\n",
        "\n",
        "#Un ejercicio para ver incremento \n",
        "print (carrera[0:10:2])\n",
        "print (carrera[-1:-12:-1])"
      ],
      "execution_count": 28,
      "outputs": [
        {
          "output_type": "stream",
          "name": "stdout",
          "text": [
            "Ingeniería\n",
            "Computación\n",
            "Computació\n",
            "Ingeniería\n",
            "Computación\n",
            "Computación\n",
            "----------\n",
            "Computació\n",
            "Computación\n",
            "Igneí\n",
            "nóicatupmoC\n"
          ]
        }
      ]
    },
    {
      "cell_type": "markdown",
      "metadata": {
        "id": "4reYzXhF0ift"
      },
      "source": [
        "### Strin y sus métodos \n",
        "### Todos los tipos de datos en python son objetos (POO)\n",
        "### Lo cual significa que traen atributos y métodos \n",
        "\n",
        "## dir () y help (), son funciones para obtener ayuda del lenguaje Python\n",
        "\n",
        "## dir muestra las funciones de un tipo de datos como resumen\n",
        "## help muestra la misma ayuda a detalle\n",
        "\n",
        "Métodos  que inician con doble guión bajo son privados, de uso interno de la clase y no se deberían usar. Todos los demas son para uso exterior \n"
      ]
    },
    {
      "cell_type": "code",
      "metadata": {
        "colab": {
          "base_uri": "https://localhost:8080/"
        },
        "id": "qlvUfO7S08Dk",
        "outputId": "4636dbfd-5fe7-4ebd-b727-059a9ab734d5"
      },
      "source": [
        "frutas =  \"  limon ,  fresa,  manzana  ,  aguacate   \"\n",
        "nombre = \"josé\"\n",
        "print(frutas)\n",
        "\n",
        "print ( nombre.capitalize() )\n",
        "print ( nombre.upper() )\n",
        "print ( frutas.replace ('a', '4').replace('e', '3').upper() )\n",
        "frutas = frutas.replace ('a', '4').replace('e', '3').upper()\n",
        "print (frutas)\n",
        "print (\"---------------------------------------------------------------\")\n",
        "frutas =  \"  limon ,  fresa,  manzana  ,  aguacate   \"\n",
        "print ( frutas.strip()  )\n",
        "print ( frutas.split() )\n",
        "print ( frutas.split(',') )\n",
        "print (frutas.find(\"n\"))\n",
        "# find marca la posicion de la letra \n",
        "# dri(frutas)\n",
        "# help(str)\n",
        "# Strip quita la basura (espacios)\n",
        "# Split separa la cadena por espacio si no se le pone nada"
      ],
      "execution_count": 59,
      "outputs": [
        {
          "output_type": "stream",
          "name": "stdout",
          "text": [
            "  limon ,  fresa,  manzana  ,  aguacate   \n",
            "José\n",
            "JOSÉ\n",
            "  LIMON ,  FR3S4,  M4NZ4N4  ,  4GU4C4T3   \n",
            "  LIMON ,  FR3S4,  M4NZ4N4  ,  4GU4C4T3   \n",
            "---------------------------------------------------------------\n",
            "limon ,  fresa,  manzana  ,  aguacate\n",
            "['limon', ',', 'fresa,', 'manzana', ',', 'aguacate']\n",
            "['  limon ', '  fresa', '  manzana  ', '  aguacate   ']\n",
            "6\n"
          ]
        }
      ]
    },
    {
      "cell_type": "markdown",
      "metadata": {
        "id": "3PZJ5LZ48XvP"
      },
      "source": [
        "### String y caracteres de escape \n",
        "\n",
        "- \\\" --> \"\n",
        "- \\\" --> \n",
        "- \\n --> salto de linea \n",
        "- \\t --> tabulador espacio izq \n",
        "- \\uxxxx -->caracter unicode\n",
        "- \\Uxxx --> unicode extendido "
      ]
    },
    {
      "cell_type": "code",
      "metadata": {
        "colab": {
          "base_uri": "https://localhost:8080/"
        },
        "id": "ap8g4fcd85bx",
        "outputId": "9809ff4c-fc80-4f0f-dad0-e1055f1f0316"
      },
      "source": [
        "print(\" \\\"jose\\\"\")\n",
        "\n",
        "carrera = \"Ingeniería \\n\\ten \\n\\tComputación\"\n",
        "print (carrera)"
      ],
      "execution_count": 63,
      "outputs": [
        {
          "output_type": "stream",
          "name": "stdout",
          "text": [
            " \"jose\"\n",
            "Ingeniería \n",
            "\ten \n",
            "\tComputación\n"
          ]
        }
      ]
    }
  ]
}