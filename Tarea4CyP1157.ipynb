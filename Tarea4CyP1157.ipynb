{
  "nbformat": 4,
  "nbformat_minor": 0,
  "metadata": {
    "colab": {
      "name": "Tarea4CyP1157",
      "provenance": [],
      "authorship_tag": "ABX9TyMFFgUXfRLYPEmXvwkou98F",
      "include_colab_link": true
    },
    "kernelspec": {
      "name": "python3",
      "display_name": "Python 3"
    },
    "language_info": {
      "name": "python"
    }
  },
  "cells": [
    {
      "cell_type": "markdown",
      "metadata": {
        "id": "view-in-github",
        "colab_type": "text"
      },
      "source": [
        "<a href=\"https://colab.research.google.com/github/YahirRM/CyP20221157/blob/main/Tarea4CyP1157.ipynb\" target=\"_parent\"><img src=\"https://colab.research.google.com/assets/colab-badge.svg\" alt=\"Open In Colab\"/></a>"
      ]
    },
    {
      "cell_type": "markdown",
      "metadata": {
        "id": "5N0saxMQH71u"
      },
      "source": [
        "###25/10/21\n"
      ]
    },
    {
      "cell_type": "code",
      "metadata": {
        "colab": {
          "base_uri": "https://localhost:8080/"
        },
        "id": "fEW26GFuWTMI",
        "outputId": "d8e4830e-d4cd-4e34-e9a2-3e58719414a4"
      },
      "source": [
        "name = \"yahir\" \n",
        "print (\"Mi nombre es \"+name.upper()+\" y estas son mis iniciales:\")\n",
        "#Letra Y\n",
        "print (\"\\n   Y\"+ '     ' +'Y'+'\\n     Y Y '+\"\\n      Y\"+ \"\\n     Y\"+\"\\n    Y\") \n",
        "#Letra A\n",
        "print (\"\\n     A\"+ \"\\n   A A A \"+\"\\n A A A A A\"+ \"\\nA         A\" )\n",
        "#Letra H\n",
        "print (\"\\n  H      H\"+\"\\n  H      H\"+\"\\n  HHHHHHHH \"+\"\\n  HHHHHHHH\"+\"\\n  H      H\" +\"\\n  H      H\")\n",
        "#Letra I\n",
        "print (\"\\n   IIIIII\"+\"\\n     II  \"+\"\\n     II  \"+\"\\n     II  \"+\"\\n     II  \"+\"\\n   IIIIII\")\n",
        "#Letra R\n",
        "print (\"\\n   RRRRRR\"+\"\\n   R    R\"+\"\\n   R    R\"+\"\\n   R RR R\"+\"\\n   R R\"+\"\\n   R  R\"+\"\\n   R   R\")\n",
        "\n"
      ],
      "execution_count": null,
      "outputs": [
        {
          "output_type": "stream",
          "name": "stdout",
          "text": [
            "Mi nombre es YAHIR y estas son mis iniciales:\n",
            "\n",
            "   Y     Y\n",
            "     Y Y \n",
            "      Y\n",
            "     Y\n",
            "    Y\n",
            "\n",
            "     A\n",
            "   A A A \n",
            " A A A A A\n",
            "A         A\n",
            "\n",
            "  H      H\n",
            "  H      H\n",
            "  HHHHHHHH \n",
            "  HHHHHHHH\n",
            "  H      H\n",
            "  H      H\n",
            "\n",
            "   IIIIII\n",
            "     II  \n",
            "     II  \n",
            "     II  \n",
            "     II  \n",
            "   IIIIII\n",
            "\n",
            "   RRRRRR\n",
            "   R    R\n",
            "   R    R\n",
            "   R RR R\n",
            "   R R\n",
            "   R  R\n",
            "   R   R\n"
          ]
        }
      ]
    }
  ]
}