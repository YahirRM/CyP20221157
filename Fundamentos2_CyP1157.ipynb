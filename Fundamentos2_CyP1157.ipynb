{
  "nbformat": 4,
  "nbformat_minor": 0,
  "metadata": {
    "colab": {
      "name": "Fundamentos2_CyP1157.ipynb",
      "provenance": [],
      "authorship_tag": "ABX9TyMhOtYXGCSP1SLdzHZCfkfa",
      "include_colab_link": true
    },
    "kernelspec": {
      "name": "python3",
      "display_name": "Python 3"
    },
    "language_info": {
      "name": "python"
    }
  },
  "cells": [
    {
      "cell_type": "markdown",
      "metadata": {
        "id": "view-in-github",
        "colab_type": "text"
      },
      "source": [
        "<a href=\"https://colab.research.google.com/github/YahirRM/CyP20221157/blob/main/Fundamentos2_CyP1157.ipynb\" target=\"_parent\"><img src=\"https://colab.research.google.com/assets/colab-badge.svg\" alt=\"Open In Colab\"/></a>"
      ]
    },
    {
      "cell_type": "code",
      "metadata": {
        "id": "tYI_CzlEFTAs"
      },
      "source": [
        ""
      ],
      "execution_count": null,
      "outputs": []
    },
    {
      "cell_type": "markdown",
      "metadata": {
        "id": "4LLFWizyFail"
      },
      "source": [
        "### 4/11/21\n",
        "\n",
        "#### Tipos de datos estructurados en python \n",
        "\n",
        "1. Listas\n",
        "2. Tuplas\n",
        "3. Diccionarios \n",
        "4. Conjuntos (opcional)"
      ]
    },
    {
      "cell_type": "markdown",
      "metadata": {
        "id": "eyOaBpGOFtTg"
      },
      "source": [
        "### Listas \n",
        "\n",
        "- Es un tipo de dato que agrupa variables o valores \n",
        "- Estructura secuencial (indexados empezando por 0)\n",
        "- Se declara de dos formas\n",
        "           - Usando []\n",
        "           - Usando list()\n",
        "           - Usando un generador \n",
        "- Puede contener tipos de datos diversos \n",
        "- Los elementos internos se seleccionan con []\n",
        "- Sopar slicing  \n",
        "- SON MUTABLES\n",
        "- GENERADORES [var for x in range (10)]\n",
        "- Al ser una clase contiene muchos métodos utiles\n"
      ]
    },
    {
      "cell_type": "code",
      "metadata": {
        "colab": {
          "base_uri": "https://localhost:8080/"
        },
        "id": "fW0f-JvxGtcx",
        "outputId": "13b75051-454d-4265-c2d8-d44f5dfac33b"
      },
      "source": [
        "numeros = [10, 5, 3, 2, 1]\n",
        "print (numeros)\n",
        "# append agrega datos\n",
        "numeros2 = list()\n",
        "numeros2.append(10)\n",
        "numeros2.append(5)\n",
        "numeros2.append(3)\n",
        "numeros2.append(2)\n",
        "numeros2.append(1)\n",
        "print (numeros2)\n",
        "numeros[2] = 20\n",
        "print (numeros) \n",
        "numeros[-1] = 33\n",
        "print (numeros) \n",
        "numeros.append(88)\n",
        "print (numeros)"
      ],
      "execution_count": null,
      "outputs": [
        {
          "output_type": "stream",
          "name": "stdout",
          "text": [
            "[10, 5, 3, 2, 1]\n",
            "[10, 5, 3, 2, 1]\n",
            "[10, 5, 20, 2, 1]\n",
            "[10, 5, 20, 2, 33]\n",
            "[10, 5, 20, 2, 33, 88]\n"
          ]
        }
      ]
    },
    {
      "cell_type": "code",
      "metadata": {
        "colab": {
          "base_uri": "https://localhost:8080/"
        },
        "id": "EgOhppP3IdJ2",
        "outputId": "ebf078b3-4c54-45a1-9b40-b64d762f09fe"
      },
      "source": [
        "# tipos diversos \n",
        "\n",
        "cosas = [12, 2, True, \"Jose\", 1.57, [\"pera\", \"Kiwi\", \"Manzana\"]]\n",
        "print (cosas)\n",
        "print(cosas[1])\n",
        "print(cosas[4])\n",
        "print(cosas[5])\n",
        "print(cosas[5][1])\n",
        "print(cosas[3][1:3:1])\n",
        "\n",
        "cosas [3] =cosas [3].upper()\n",
        "print (cosas) "
      ],
      "execution_count": null,
      "outputs": [
        {
          "output_type": "stream",
          "name": "stdout",
          "text": [
            "[12, 2, True, 'Jose', 1.57, ['pera', 'Kiwi', 'Manzana']]\n",
            "2\n",
            "1.57\n",
            "['pera', 'Kiwi', 'Manzana']\n",
            "Kiwi\n",
            "os\n",
            "[12, 2, True, 'JOSE', 1.57, ['pera', 'Kiwi', 'Manzana']]\n"
          ]
        }
      ]
    },
    {
      "cell_type": "code",
      "metadata": {
        "colab": {
          "base_uri": "https://localhost:8080/"
        },
        "id": "vh4wmXNaL2V1",
        "outputId": "6e81529a-fe53-493a-e41f-10209090776b"
      },
      "source": [
        "numeros = [1,2,3,4,5,6,7,8,9,10,11]\n",
        "print (numeros)\n",
        "#Slicing \n",
        "# Del 4-8\n",
        "print (numeros[3:8])\n",
        "# Del 9-10\n",
        "print (numeros[8:10])\n",
        "# Imprimir la lista inversamente \n",
        "print (numeros[::-1])\n",
        "\n"
      ],
      "execution_count": null,
      "outputs": [
        {
          "output_type": "stream",
          "name": "stdout",
          "text": [
            "[1, 2, 3, 4, 5, 6, 7, 8, 9, 10, 11]\n",
            "[4, 5, 6, 7, 8]\n",
            "[9, 10]\n",
            "[11, 10, 9, 8, 7, 6, 5, 4, 3, 2, 1]\n"
          ]
        }
      ]
    },
    {
      "cell_type": "code",
      "metadata": {
        "colab": {
          "base_uri": "https://localhost:8080/"
        },
        "id": "cvO00XyJPn6T",
        "outputId": "3c81be86-b1ac-40e6-d90f-cb25f672bf74"
      },
      "source": [
        "# Crear una lista con un generador \n",
        "numeros = [x for x in range(101)]\n",
        "print(numeros)\n",
        "\n",
        "numeros = [x*3 for x in range(101)] #Para que se multiplique por 3 \n",
        "print(numeros)"
      ],
      "execution_count": null,
      "outputs": [
        {
          "output_type": "stream",
          "name": "stdout",
          "text": [
            "[0, 1, 2, 3, 4, 5, 6, 7, 8, 9, 10, 11, 12, 13, 14, 15, 16, 17, 18, 19, 20, 21, 22, 23, 24, 25, 26, 27, 28, 29, 30, 31, 32, 33, 34, 35, 36, 37, 38, 39, 40, 41, 42, 43, 44, 45, 46, 47, 48, 49, 50, 51, 52, 53, 54, 55, 56, 57, 58, 59, 60, 61, 62, 63, 64, 65, 66, 67, 68, 69, 70, 71, 72, 73, 74, 75, 76, 77, 78, 79, 80, 81, 82, 83, 84, 85, 86, 87, 88, 89, 90, 91, 92, 93, 94, 95, 96, 97, 98, 99, 100]\n",
            "[0, 3, 6, 9, 12, 15, 18, 21, 24, 27, 30, 33, 36, 39, 42, 45, 48, 51, 54, 57, 60, 63, 66, 69, 72, 75, 78, 81, 84, 87, 90, 93, 96, 99, 102, 105, 108, 111, 114, 117, 120, 123, 126, 129, 132, 135, 138, 141, 144, 147, 150, 153, 156, 159, 162, 165, 168, 171, 174, 177, 180, 183, 186, 189, 192, 195, 198, 201, 204, 207, 210, 213, 216, 219, 222, 225, 228, 231, 234, 237, 240, 243, 246, 249, 252, 255, 258, 261, 264, 267, 270, 273, 276, 279, 282, 285, 288, 291, 294, 297, 300]\n"
          ]
        }
      ]
    },
    {
      "cell_type": "markdown",
      "metadata": {
        "id": "-KK2x2KPQh9b"
      },
      "source": [
        "Funcion Range ()\n",
        "\n",
        "Tiene los mismos componentes que slicing \n",
        "range (1,101,1)"
      ]
    },
    {
      "cell_type": "code",
      "metadata": {
        "colab": {
          "base_uri": "https://localhost:8080/"
        },
        "id": "YmeT9D_4QstJ",
        "outputId": "386d667e-75e3-420b-ce6f-d0ffa065ff70"
      },
      "source": [
        "# Crear una lista con un generador \n",
        "numeros = [x for x in range(50,101)]\n",
        "print(numeros)\n",
        "\n"
      ],
      "execution_count": null,
      "outputs": [
        {
          "output_type": "stream",
          "name": "stdout",
          "text": [
            "[50, 51, 52, 53, 54, 55, 56, 57, 58, 59, 60, 61, 62, 63, 64, 65, 66, 67, 68, 69, 70, 71, 72, 73, 74, 75, 76, 77, 78, 79, 80, 81, 82, 83, 84, 85, 86, 87, 88, 89, 90, 91, 92, 93, 94, 95, 96, 97, 98, 99, 100]\n"
          ]
        }
      ]
    },
    {
      "cell_type": "markdown",
      "metadata": {
        "id": "s4qLYKtoRJ2F"
      },
      "source": [
        "# Metodos disponibles de una lista"
      ]
    },
    {
      "cell_type": "code",
      "metadata": {
        "colab": {
          "base_uri": "https://localhost:8080/"
        },
        "id": "obUdwweKRO7M",
        "outputId": "b5edf34c-b5f2-4ab7-da28-ce13eb5dcd6e"
      },
      "source": [
        "dir(list)"
      ],
      "execution_count": null,
      "outputs": [
        {
          "output_type": "execute_result",
          "data": {
            "text/plain": [
              "['__add__',\n",
              " '__class__',\n",
              " '__contains__',\n",
              " '__delattr__',\n",
              " '__delitem__',\n",
              " '__dir__',\n",
              " '__doc__',\n",
              " '__eq__',\n",
              " '__format__',\n",
              " '__ge__',\n",
              " '__getattribute__',\n",
              " '__getitem__',\n",
              " '__gt__',\n",
              " '__hash__',\n",
              " '__iadd__',\n",
              " '__imul__',\n",
              " '__init__',\n",
              " '__init_subclass__',\n",
              " '__iter__',\n",
              " '__le__',\n",
              " '__len__',\n",
              " '__lt__',\n",
              " '__mul__',\n",
              " '__ne__',\n",
              " '__new__',\n",
              " '__reduce__',\n",
              " '__reduce_ex__',\n",
              " '__repr__',\n",
              " '__reversed__',\n",
              " '__rmul__',\n",
              " '__setattr__',\n",
              " '__setitem__',\n",
              " '__sizeof__',\n",
              " '__str__',\n",
              " '__subclasshook__',\n",
              " 'append',\n",
              " 'clear',\n",
              " 'copy',\n",
              " 'count',\n",
              " 'extend',\n",
              " 'index',\n",
              " 'insert',\n",
              " 'pop',\n",
              " 'remove',\n",
              " 'reverse',\n",
              " 'sort']"
            ]
          },
          "metadata": {},
          "execution_count": 49
        }
      ]
    },
    {
      "cell_type": "code",
      "metadata": {
        "colab": {
          "base_uri": "https://localhost:8080/"
        },
        "id": "A-BnlNrYSgCX",
        "outputId": "9fc564fb-951f-49f0-c826-90e360a4b0d6"
      },
      "source": [
        "numero = [4,5,6,7,8,90,98]\n",
        "print (numero)\n",
        "numero.append(99) #append agrega elementos\n",
        "print (numero)\n",
        "numero.clear() #Vacia la lista\n",
        "print (numero)\n",
        "\n",
        "frutas = [\"Uvas\", \"Kiwi\", \"Manzana\"]\n",
        "copia = frutas\n",
        "\n",
        "print (frutas)\n",
        "print (copia)\n",
        "frutas.append(\"Naranja\")\n",
        "print (frutas)\n",
        "print (copia)\n",
        "print (\"------------------------------------------\")\n",
        "colores = [\"Rojo\",\"Azul\",\"Blanco\"]\n",
        "copia2 = colores.copy()\n",
        "print (colores)\n",
        "print (copia2)\n",
        "colores.append(\"Verde\")\n",
        "print (colores)\n",
        "print (copia2)\n",
        "print (\"------------------------------------------\")\n",
        "numero = [4,5,6,7,8,15,90,15]\n",
        "print (\"Numero de veces que aparece el 15: \",numero.count(15)) #count cuenta \n",
        "print (\"------------------------------------------\")\n",
        "#extend \n",
        "nombres = [\"Jose\",\"Pedro\",\"Karina\"]\n",
        "otrosnombres =[\"Josue\", \"Liliana\",\"Dalia\"]\n",
        "print (nombres)\n",
        "print (otrosnombres)\n",
        "nombres = nombres + otrosnombres\n",
        "print (nombres)\n",
        "#Uso de extend \n",
        "otrosnombres.extend([\"Jesus\", \"Maria\", \"Jose\"])\n",
        "print (otrosnombres)\n",
        "#Index\n",
        "print (\"------------------------------------------\")\n",
        "print(\"Jesus esta en la posicion: \", otrosnombres.index(\"Jesus\"))\n",
        "#Insert inserta valores en cualquier posición y los anteriores los mueve a la izquierda\n",
        "print (\"------------------------------------------\")\n",
        "otrosnombres.insert(4,\"Espiritu santo\")\n",
        "print (otrosnombres)\n",
        "print (\"------------------------------------------\")\n",
        "#pop saca el ultimo dato y lo regresa\n",
        "\n",
        "resultado = otrosnombres.pop()\n",
        "print (otrosnombres)\n",
        "print (resultado)\n",
        "\n"
      ],
      "execution_count": null,
      "outputs": [
        {
          "output_type": "stream",
          "name": "stdout",
          "text": [
            "[4, 5, 6, 7, 8, 90, 98]\n",
            "[4, 5, 6, 7, 8, 90, 98, 99]\n",
            "[]\n",
            "['Uvas', 'Kiwi', 'Manzana']\n",
            "['Uvas', 'Kiwi', 'Manzana']\n",
            "['Uvas', 'Kiwi', 'Manzana', 'Naranja']\n",
            "['Uvas', 'Kiwi', 'Manzana', 'Naranja']\n",
            "------------------------------------------\n",
            "['Rojo', 'Azul', 'Blanco']\n",
            "['Rojo', 'Azul', 'Blanco']\n",
            "['Rojo', 'Azul', 'Blanco', 'Verde']\n",
            "['Rojo', 'Azul', 'Blanco']\n",
            "------------------------------------------\n",
            "Numero de veces que aparece el 15:  2\n",
            "------------------------------------------\n",
            "['Jose', 'Pedro', 'Karina']\n",
            "['Josue', 'Liliana', 'Dalia']\n",
            "['Jose', 'Pedro', 'Karina', 'Josue', 'Liliana', 'Dalia']\n",
            "['Josue', 'Liliana', 'Dalia', 'Jesus', 'Maria', 'Jose']\n",
            "------------------------------------------\n",
            "Jesus esta en la posicion:  3\n",
            "------------------------------------------\n",
            "['Josue', 'Liliana', 'Dalia', 'Jesus', 'Espiritu santo', 'Maria', 'Jose']\n",
            "------------------------------------------\n",
            "['Josue', 'Liliana', 'Dalia', 'Jesus', 'Espiritu santo', 'Maria']\n",
            "Jose\n"
          ]
        }
      ]
    }
  ]
}