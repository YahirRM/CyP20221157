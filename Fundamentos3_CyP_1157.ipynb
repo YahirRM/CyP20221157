{
  "nbformat": 4,
  "nbformat_minor": 0,
  "metadata": {
    "colab": {
      "name": "Fundamentos3_CyP_1157.ipynb",
      "provenance": [],
      "authorship_tag": "ABX9TyMa+29epolQm1Rxj2X/hveh",
      "include_colab_link": true
    },
    "kernelspec": {
      "name": "python3",
      "display_name": "Python 3"
    },
    "language_info": {
      "name": "python"
    }
  },
  "cells": [
    {
      "cell_type": "markdown",
      "metadata": {
        "id": "view-in-github",
        "colab_type": "text"
      },
      "source": [
        "<a href=\"https://colab.research.google.com/github/YahirRM/CyP20221157/blob/main/Fundamentos3_CyP_1157.ipynb\" target=\"_parent\"><img src=\"https://colab.research.google.com/assets/colab-badge.svg\" alt=\"Open In Colab\"/></a>"
      ]
    },
    {
      "cell_type": "markdown",
      "metadata": {
        "id": "c18QXDNCFpwv"
      },
      "source": [
        "## Repetición: \n",
        "  - Este tipo de estructura nos permite automatizar, la ejecución repetitiva de código mientras ciertas condiciones se cumplan. Tenemos 3 variantes de esta estructura en todos los lenguajes de programación:\n",
        "    - Desde...Hasta (for)\n",
        "    - Haz mientras (while)\n",
        "    - Haz y luego valida mientras (do-while)\n",
        "\n",
        "# For con python\n",
        "\n",
        "```\n",
        "\n",
        "for j range(patas):\n",
        "    print(f\"Hola {j}\")\n",
        "\n",
        "```\n",
        "# For con C y java\n",
        "\n",
        "\n",
        "```\n",
        "for(int j=0 ; j<10; j=j+1){\n",
        "\n",
        "printf(\"Hola %i  /n, j);\n",
        "\n",
        "}\n",
        "\n",
        "```\n",
        "\n",
        "En todo los lenguajes de programación, existe un for especial, conocido como FOR-EACH.\n",
        "\n",
        "## For-Each en python\n",
        "\n",
        "\n",
        "```\n",
        "for color in colores: \n",
        "    print(f\"Este es el color {color} \")\n",
        "\n",
        "```\n",
        "\n",
        "\n",
        "\n"
      ]
    },
    {
      "cell_type": "code",
      "metadata": {
        "colab": {
          "base_uri": "https://localhost:8080/"
        },
        "id": "qY8NY3DkHqt4",
        "outputId": "49b47c53-ee5a-4a20-aa91-6f3c18fcd5c7"
      },
      "source": [
        "# Función range ()\n",
        "# range(<inicio>, <stop>, <incremento>)\n",
        "\n",
        "x = range(0,10,2)\n",
        "print(x)\n",
        "\n",
        "for j in range(10): #Iterador de 0-9 --> 0,1,2,3,4,5,6,7,8,9\n",
        "    print(f\"Hola {j}\")\n",
        "\n",
        "print(\"-------------------\")\n",
        "for j in range(0,10,2): #Iterador de 0-9\n",
        "    print(f\"Hola {j}\")\n",
        "\n",
        "\n",
        "print(\"-------------------\")\n",
        "frutas = [\"Uva\", \"Aguacate\", \"Pera\", \"Manzana\", \"Sandia\"]\n",
        "print(frutas[0])\n",
        "print(frutas[1])\n",
        "print(frutas[2])\n",
        "print(frutas[3])\n",
        "print(frutas[4])\n",
        "print(\"-------------------\")\n",
        "\n",
        "for index in range(5):\n",
        "    print(frutas[index])\n",
        "\n",
        "\n"
      ],
      "execution_count": null,
      "outputs": [
        {
          "output_type": "stream",
          "name": "stdout",
          "text": [
            "range(0, 10, 2)\n",
            "Hola 0\n",
            "Hola 1\n",
            "Hola 2\n",
            "Hola 3\n",
            "Hola 4\n",
            "Hola 5\n",
            "Hola 6\n",
            "Hola 7\n",
            "Hola 8\n",
            "Hola 9\n",
            "-------------------\n",
            "Hola 0\n",
            "Hola 2\n",
            "Hola 4\n",
            "Hola 6\n",
            "Hola 8\n",
            "-------------------\n",
            "Uva\n",
            "Aguacate\n",
            "Pera\n",
            "Manzana\n",
            "Sandia\n",
            "-------------------\n",
            "Uva\n",
            "Aguacate\n",
            "Pera\n",
            "Manzana\n",
            "Sandia\n"
          ]
        }
      ]
    },
    {
      "cell_type": "code",
      "metadata": {
        "colab": {
          "base_uri": "https://localhost:8080/"
        },
        "id": "0q8iP2qILdBe",
        "outputId": "d33626ff-9f14-4f74-a0ed-185990b75ea0"
      },
      "source": [
        "for i in range(5):\n",
        "    print(\"+++++\")\n"
      ],
      "execution_count": null,
      "outputs": [
        {
          "output_type": "stream",
          "name": "stdout",
          "text": [
            "+++++\n",
            "+++++\n",
            "+++++\n",
            "+++++\n",
            "+++++\n"
          ]
        }
      ]
    },
    {
      "cell_type": "markdown",
      "metadata": {
        "id": "HMn3g2PKWUt0"
      },
      "source": [
        "# 25/11/21"
      ]
    },
    {
      "cell_type": "code",
      "metadata": {
        "colab": {
          "base_uri": "https://localhost:8080/"
        },
        "id": "RPUNlEkSL4BM",
        "outputId": "dfcb05da-1d87-4563-f248-a77621f3ea63"
      },
      "source": [
        "for x in range(1,20,1):\n",
        "    print(x)\n",
        "print(\"Fin del programa\")\n",
        "\n",
        "for x in range(19,0,-1):\n",
        "    print(x)\n",
        "print(\"Fin del programa\")\n"
      ],
      "execution_count": 4,
      "outputs": [
        {
          "output_type": "stream",
          "name": "stdout",
          "text": [
            "1\n",
            "2\n",
            "3\n",
            "4\n",
            "5\n",
            "6\n",
            "7\n",
            "8\n",
            "9\n",
            "10\n",
            "11\n",
            "12\n",
            "13\n",
            "14\n",
            "15\n",
            "16\n",
            "17\n",
            "18\n",
            "19\n",
            "Fin del programa\n",
            "19\n",
            "18\n",
            "17\n",
            "16\n",
            "15\n",
            "14\n",
            "13\n",
            "12\n",
            "11\n",
            "10\n",
            "9\n",
            "8\n",
            "7\n",
            "6\n",
            "5\n",
            "4\n",
            "3\n",
            "2\n",
            "1\n",
            "Fin del programa\n"
          ]
        }
      ]
    },
    {
      "cell_type": "code",
      "metadata": {
        "colab": {
          "base_uri": "https://localhost:8080/"
        },
        "id": "Clc_-OwJNroe",
        "outputId": "fa532300-b5c5-4726-81aa-8d1d1f73de6c"
      },
      "source": [
        "# ejemplo 3.3\n",
        "\n",
        "CUECER = 0\n",
        "NUM = 0\n",
        "N = int(input(\"Introduce un valor numerico mayor que 1: \"))\n",
        "\n",
        "\n",
        "for I in range(1, N+1, 1):\n",
        "        N = int(input(\"Introduce un valor numerico mayor que 1: \"))\n",
        "        if  N == 0:\n",
        "            CUECER +=1\n",
        "print(\"CUECER = \", CUECER)\n"
      ],
      "execution_count": 7,
      "outputs": [
        {
          "output_type": "stream",
          "name": "stdout",
          "text": [
            "Introduce un valor numerico mayor que 1: 4\n",
            "Introduce un valor numerico mayor que 1: 0\n",
            "Introduce un valor numerico mayor que 1: 0\n",
            "Introduce un valor numerico mayor que 1: 5\n",
            "Introduce un valor numerico mayor que 1: 4\n",
            "CUECER =  2\n"
          ]
        }
      ]
    },
    {
      "cell_type": "code",
      "metadata": {
        "colab": {
          "base_uri": "https://localhost:8080/"
        },
        "id": "fXhJPLCrQ5MA",
        "outputId": "31a10e2f-dafa-444b-950e-4b1221dc7c3e"
      },
      "source": [
        "for f in range( 1,11): \n",
        "    print(f\"7 x {f} = {7 * f}\")"
      ],
      "execution_count": 14,
      "outputs": [
        {
          "output_type": "stream",
          "name": "stdout",
          "text": [
            "7 x 1 = 7\n",
            "7 x 2 = 14\n",
            "7 x 3 = 21\n",
            "7 x 4 = 28\n",
            "7 x 5 = 35\n",
            "7 x 6 = 42\n",
            "7 x 7 = 49\n",
            "7 x 8 = 56\n",
            "7 x 9 = 63\n",
            "7 x 10 = 70\n"
          ]
        }
      ]
    },
    {
      "cell_type": "code",
      "metadata": {
        "colab": {
          "base_uri": "https://localhost:8080/"
        },
        "id": "B0US10VtR349",
        "outputId": "c373becc-6cb5-41e4-c7ad-c9bb7a28d9f0"
      },
      "source": [
        "A = int(input(\"Dame un valor entre 1 y 5: \"))\n",
        "\n",
        "if A >= 1 and A<=5:\n",
        "    B = int(input(f\"Dame un valor entre {A} y 10: \"))\n",
        "    if B >= A and B<=10:\n",
        "        for i in range( A, B+1):\n",
        "            for j in range(1,11):\n",
        "                print(f\"{i} x {j} = \", i*j)\n",
        "            print(\"-------------------\")\n",
        "else:\n",
        "    print(\"Valor fuera de rango\")\n"
      ],
      "execution_count": 32,
      "outputs": [
        {
          "output_type": "stream",
          "name": "stdout",
          "text": [
            "Dame un valor entre 1 y 5: 4\n",
            "Dame un valor entre 4 y 10: 6\n",
            "4 x 1 =  4\n",
            "4 x 2 =  8\n",
            "4 x 3 =  12\n",
            "4 x 4 =  16\n",
            "4 x 5 =  20\n",
            "4 x 6 =  24\n",
            "4 x 7 =  28\n",
            "4 x 8 =  32\n",
            "4 x 9 =  36\n",
            "4 x 10 =  40\n",
            "-------------------\n",
            "5 x 1 =  5\n",
            "5 x 2 =  10\n",
            "5 x 3 =  15\n",
            "5 x 4 =  20\n",
            "5 x 5 =  25\n",
            "5 x 6 =  30\n",
            "5 x 7 =  35\n",
            "5 x 8 =  40\n",
            "5 x 9 =  45\n",
            "5 x 10 =  50\n",
            "-------------------\n",
            "6 x 1 =  6\n",
            "6 x 2 =  12\n",
            "6 x 3 =  18\n",
            "6 x 4 =  24\n",
            "6 x 5 =  30\n",
            "6 x 6 =  36\n",
            "6 x 7 =  42\n",
            "6 x 8 =  48\n",
            "6 x 9 =  54\n",
            "6 x 10 =  60\n",
            "-------------------\n"
          ]
        }
      ]
    },
    {
      "cell_type": "code",
      "metadata": {
        "colab": {
          "base_uri": "https://localhost:8080/"
        },
        "id": "eAz67PkKWJ62",
        "outputId": "3e82710a-aaca-4808-d862-18da4780fecf"
      },
      "source": [
        "# Generadores de listas \n",
        "numeros = [0,0,0,0,0,0,0,0]\n",
        "print(numeros)\n",
        "\n",
        "numeros =[   0 for x in range(5)      ]\n",
        "print(numeros)\n",
        "\n",
        "#Empleando la variable de control X para el valor inicial \n",
        "numeros =[   x for x in range(5)      ]\n",
        "print(numeros)\n",
        "\n",
        "numeros = [ x for x in range(10,101,10) ]\n",
        "print(numeros)\n",
        "print(\"------------\")\n",
        "numeros = [ x*10 for x in range(1,11) ]\n",
        "print(numeros)\n",
        "\n",
        "\n",
        "\n"
      ],
      "execution_count": 40,
      "outputs": [
        {
          "output_type": "stream",
          "name": "stdout",
          "text": [
            "[0, 0, 0, 0, 0, 0, 0, 0]\n",
            "[0, 0, 0, 0, 0]\n",
            "[0, 1, 2, 3, 4]\n",
            "[10, 20, 30, 40, 50, 60, 70, 80, 90, 100]\n",
            "------------\n",
            "[10, 20, 30, 40, 50, 60, 70, 80, 90, 100]\n"
          ]
        }
      ]
    },
    {
      "cell_type": "code",
      "metadata": {
        "colab": {
          "base_uri": "https://localhost:8080/"
        },
        "id": "iAnu-OhgYRha",
        "outputId": "9d320a8f-ec05-4c5e-c2f0-0f9e6fea6a7e"
      },
      "source": [
        "# Calcular promedio de edad\n",
        "\n",
        "suma=0\n",
        "edades=[0 for x in range(5)]\n",
        "for x in range(5):\n",
        "    edades[x]=int(input(\"Dame una edad: \"))\n",
        "    suma=suma+edades[x]\n",
        "print(edades)\n",
        "print(\"promedio: \", suma/5)"
      ],
      "execution_count": 49,
      "outputs": [
        {
          "output_type": "stream",
          "name": "stdout",
          "text": [
            "Dame una edad: 32\n",
            "Dame una edad: 31\n",
            "Dame una edad: 12\n",
            "Dame una edad: 23\n",
            "Dame una edad: 11\n",
            "[32, 31, 12, 23, 11]\n",
            "promedio:  21.8\n"
          ]
        }
      ]
    },
    {
      "cell_type": "code",
      "metadata": {
        "colab": {
          "base_uri": "https://localhost:8080/"
        },
        "id": "XJvhbSIGcUBR",
        "outputId": "45c491a3-f775-4bc0-e820-00ebc63228f5"
      },
      "source": [
        "import random \n",
        "print(random.random())\n",
        "print(random.uniform(5,11))\n",
        "\n",
        "valores = [round(random.uniform(5,11),2) for x in range(20)]\n",
        "print(valores)"
      ],
      "execution_count": 54,
      "outputs": [
        {
          "output_type": "stream",
          "name": "stdout",
          "text": [
            "0.9968773098645132\n",
            "9.701507179417224\n",
            "[7.63, 9.88, 7.11, 9.33, 8.91, 9.26, 8.54, 10.44, 5.49, 5.0, 6.35, 7.89, 10.01, 6.71, 5.13, 9.9, 7.49, 8.88, 6.12, 10.06]\n"
          ]
        }
      ]
    }
  ]
}