{
  "nbformat": 4,
  "nbformat_minor": 0,
  "metadata": {
    "colab": {
      "name": "Fundamentos3_CyP_1157.ipynb",
      "provenance": [],
      "authorship_tag": "ABX9TyPOmKJPBY2X4oB/A/5TWIps",
      "include_colab_link": true
    },
    "kernelspec": {
      "name": "python3",
      "display_name": "Python 3"
    },
    "language_info": {
      "name": "python"
    }
  },
  "cells": [
    {
      "cell_type": "markdown",
      "metadata": {
        "id": "view-in-github",
        "colab_type": "text"
      },
      "source": [
        "<a href=\"https://colab.research.google.com/github/YahirRM/CyP20221157/blob/main/Fundamentos3_CyP_1157.ipynb\" target=\"_parent\"><img src=\"https://colab.research.google.com/assets/colab-badge.svg\" alt=\"Open In Colab\"/></a>"
      ]
    },
    {
      "cell_type": "markdown",
      "metadata": {
        "id": "c18QXDNCFpwv"
      },
      "source": [
        "## Repetición: \n",
        "  - Este tipo de estructura nos permite automatizar, la ejecución repetitiva de código mientras ciertas condiciones se cumplan. Tenemos 3 variantes de esta estructura en todos los lenguajes de programación:\n",
        "    - Desde...Hasta (for)\n",
        "    - Haz mientras (while)\n",
        "    - Haz y luego valida mientras (do-while)\n",
        "\n",
        "# For con python\n",
        "\n",
        "```\n",
        "\n",
        "for j range(patas):\n",
        "    print(f\"Hola {j}\")\n",
        "\n",
        "```\n",
        "# For con C y java\n",
        "\n",
        "\n",
        "```\n",
        "for(int j=0 ; j<10; j=j+1){\n",
        "\n",
        "printf(\"Hola %i  /n, j);\n",
        "\n",
        "}\n",
        "\n",
        "```\n",
        "\n",
        "En todo los lenguajes de programación, existe un for especial, conocido como FOR-EACH.\n",
        "\n",
        "## For-Each en python\n",
        "\n",
        "\n",
        "```\n",
        "for color in colores: \n",
        "    print(f\"Este es el color {color} \")\n",
        "\n",
        "```\n",
        "\n",
        "\n",
        "\n"
      ]
    },
    {
      "cell_type": "code",
      "metadata": {
        "colab": {
          "base_uri": "https://localhost:8080/"
        },
        "id": "qY8NY3DkHqt4",
        "outputId": "49b47c53-ee5a-4a20-aa91-6f3c18fcd5c7"
      },
      "source": [
        "# Función range ()\n",
        "# range(<inicio>, <stop>, <incremento>)\n",
        "\n",
        "x = range(0,10,2)\n",
        "print(x)\n",
        "\n",
        "for j in range(10): #Iterador de 0-9 --> 0,1,2,3,4,5,6,7,8,9\n",
        "    print(f\"Hola {j}\")\n",
        "\n",
        "print(\"-------------------\")\n",
        "for j in range(0,10,2): #Iterador de 0-9\n",
        "    print(f\"Hola {j}\")\n",
        "\n",
        "\n",
        "print(\"-------------------\")\n",
        "frutas = [\"Uva\", \"Aguacate\", \"Pera\", \"Manzana\", \"Sandia\"]\n",
        "print(frutas[0])\n",
        "print(frutas[1])\n",
        "print(frutas[2])\n",
        "print(frutas[3])\n",
        "print(frutas[4])\n",
        "print(\"-------------------\")\n",
        "\n",
        "for index in range(5):\n",
        "    print(frutas[index])\n",
        "\n",
        "\n"
      ],
      "execution_count": null,
      "outputs": [
        {
          "output_type": "stream",
          "name": "stdout",
          "text": [
            "range(0, 10, 2)\n",
            "Hola 0\n",
            "Hola 1\n",
            "Hola 2\n",
            "Hola 3\n",
            "Hola 4\n",
            "Hola 5\n",
            "Hola 6\n",
            "Hola 7\n",
            "Hola 8\n",
            "Hola 9\n",
            "-------------------\n",
            "Hola 0\n",
            "Hola 2\n",
            "Hola 4\n",
            "Hola 6\n",
            "Hola 8\n",
            "-------------------\n",
            "Uva\n",
            "Aguacate\n",
            "Pera\n",
            "Manzana\n",
            "Sandia\n",
            "-------------------\n",
            "Uva\n",
            "Aguacate\n",
            "Pera\n",
            "Manzana\n",
            "Sandia\n"
          ]
        }
      ]
    },
    {
      "cell_type": "code",
      "metadata": {
        "colab": {
          "base_uri": "https://localhost:8080/"
        },
        "id": "0q8iP2qILdBe",
        "outputId": "d33626ff-9f14-4f74-a0ed-185990b75ea0"
      },
      "source": [
        "for i in range(5):\n",
        "    print(\"+++++\")\n"
      ],
      "execution_count": null,
      "outputs": [
        {
          "output_type": "stream",
          "name": "stdout",
          "text": [
            "+++++\n",
            "+++++\n",
            "+++++\n",
            "+++++\n",
            "+++++\n"
          ]
        }
      ]
    }
  ]
}