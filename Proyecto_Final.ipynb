{
  "nbformat": 4,
  "nbformat_minor": 0,
  "metadata": {
    "colab": {
      "name": "Proyecto_Final.ipynb",
      "provenance": [],
      "collapsed_sections": [],
      "authorship_tag": "ABX9TyP2rtQtYmOHt17ju+DitXcC",
      "include_colab_link": true
    },
    "kernelspec": {
      "name": "python3",
      "display_name": "Python 3"
    },
    "language_info": {
      "name": "python"
    }
  },
  "cells": [
    {
      "cell_type": "markdown",
      "metadata": {
        "id": "view-in-github",
        "colab_type": "text"
      },
      "source": [
        "<a href=\"https://colab.research.google.com/github/YahirRM/CyP20221157/blob/main/Proyecto_Final.ipynb\" target=\"_parent\"><img src=\"https://colab.research.google.com/assets/colab-badge.svg\" alt=\"Open In Colab\"/></a>"
      ]
    },
    {
      "cell_type": "code",
      "execution_count": null,
      "metadata": {
        "colab": {
          "base_uri": "https://localhost:8080/"
        },
        "id": "6gB-7KUsdlA1",
        "outputId": "4a660540-5d58-41ac-b88c-d8a134ff7023"
      },
      "outputs": [
        {
          "output_type": "stream",
          "name": "stdout",
          "text": [
            "Ingresa un número de reactangulos con los que se quiera calcular la integras: 5\n",
            "EL AREA DEL RECTANGULO  1 es: 0.22103418361512955\n",
            "EL AREA DEL RECTANGULO  2 es: 0.26997176151520064\n",
            "EL AREA DEL RECTANGULO  3 es: 0.32974425414002567\n",
            "EL AREA DEL RECTANGULO  4 es: 0.40275054149409534\n",
            "EL AREA DEL RECTANGULO  5 es: 0.4919206222313899\n",
            "Las areas de los rectangulos son: [0.22103418361512955, 0.26997176151520064, 0.32974425414002567, 0.40275054149409534, 0.4919206222313899]\n",
            "El resultado es: 1.715421362995841\n"
          ]
        }
      ],
      "source": [
        "from math import e \n",
        "\n",
        "n = int(input(\"Ingresa un número de reactangulos con los que se quiera calcular la integras: \"))\n",
        "i = 0\n",
        "lista = []\n",
        "\n",
        "while i<n:\n",
        "    ss= i*(1/n)\n",
        "    p = e**(((1/n)/2)+i*(1/n))\n",
        "    r = ((1/n)*(p))\n",
        "  \n",
        "\n",
        "    print(f\"EL AREA DEL RECTANGULO  {i+1} es: {r}\")\n",
        "    i += 1\n",
        "    lista.insert(i,r)\n",
        "\n",
        "print(f\"Las areas de los rectangulos son: {lista}\")\n",
        "\n",
        "SUM = sum(lista)\n",
        "print(f\"El resultado es: {SUM}\")\n"
      ]
    }
  ]
}