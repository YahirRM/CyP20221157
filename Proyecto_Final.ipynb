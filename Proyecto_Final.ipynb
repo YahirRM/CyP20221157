{
  "nbformat": 4,
  "nbformat_minor": 0,
  "metadata": {
    "colab": {
      "name": "Proyecto_Final.ipynb",
      "provenance": [],
      "collapsed_sections": [],
      "authorship_tag": "ABX9TyOy9cHHMty+l8wRsDMne7F5",
      "include_colab_link": true
    },
    "kernelspec": {
      "name": "python3",
      "display_name": "Python 3"
    },
    "language_info": {
      "name": "python"
    }
  },
  "cells": [
    {
      "cell_type": "markdown",
      "metadata": {
        "id": "view-in-github",
        "colab_type": "text"
      },
      "source": [
        "<a href=\"https://colab.research.google.com/github/YahirRM/CyP20221157/blob/main/Proyecto_Final.ipynb\" target=\"_parent\"><img src=\"https://colab.research.google.com/assets/colab-badge.svg\" alt=\"Open In Colab\"/></a>"
      ]
    },
    {
      "cell_type": "code",
      "execution_count": 9,
      "metadata": {
        "colab": {
          "base_uri": "https://localhost:8080/"
        },
        "id": "6gB-7KUsdlA1",
        "outputId": "419f82e1-649c-463f-d6a2-316f35c365da"
      },
      "outputs": [
        {
          "output_type": "stream",
          "name": "stdout",
          "text": [
            "Ingresa un número de reactangulos con los que se quiera calcular la integral: 20\n",
            "El área del rectángulo 1 es: 0.051265756026221444\n",
            "El área del rectángulo 2 es: 0.053894207544231576\n",
            "El área del rectángulo 3 es: 0.05665742265334132\n",
            "El área del rectángulo 4 es: 0.05956231083061791\n",
            "El área del rectángulo 5 es: 0.06261613580959323\n",
            "El área del rectángulo 6 es: 0.06582653374338109\n",
            "El área del rectángulo 7 es: 0.06920153229903757\n",
            "El área del rectángulo 8 es: 0.07274957073091008\n",
            "El área del rectángulo 9 es: 0.07647952098316894\n",
            "El área del rectángulo 10 es: 0.08040070987428916\n",
            "El área del rectángulo 11 es: 0.08452294241895458\n",
            "El área del rectángulo 12 es: 0.08885652634570193\n",
            "El área del rectángulo 13 es: 0.09341229787161114\n",
            "El área del rectángulo 14 es: 0.09820164879849236\n",
            "El área del rectángulo 15 es: 0.10323655499832435\n",
            "El área del rectángulo 16 es: 0.10852960635917214\n",
            "El área del rectángulo 17 es: 0.11409403826646519\n",
            "El área del rectángulo 18 es: 0.11994376469835491\n",
            "El área del rectángulo 19 es: 0.1260934130179074\n",
            "El área del rectángulo 20 es: 0.13255836054913037\n",
            "\n",
            "El resultado de la integral definida con un total de 20 rectángulos es:  1.718103\n"
          ]
        }
      ],
      "source": [
        "#PROYECTO FINAL: Método de integración por rectángulos.\n",
        "from math import e \n",
        "N = int(input(\"Ingresa un número de reactangulos con los que se quiera calcular la integral: \")) \n",
        "i = 0 \n",
        "AREA_RECT= [] \n",
        "for i in range(N): \n",
        "    BASE = i*(1/N) \n",
        "    PERI = e**(((1/N)/2)+i*(1/N))\n",
        "    RES = ((1/N)*(PERI))\n",
        "    print(f\"El área del rectángulo {i+1} es: {RES}\")\n",
        "    i = i+1\n",
        "    AREA_RECT.insert(i,RES)\n",
        "SUM = sum(AREA_RECT)\n",
        "print(f\"\\nEl resultado de la integral definida con un total de {N} rectángulos es: \",round(SUM,6))"
      ]
    }
  ]
}